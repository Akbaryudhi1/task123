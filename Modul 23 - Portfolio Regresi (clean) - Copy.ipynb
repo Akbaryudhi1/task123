{
 "cells": [
  {
   "cell_type": "markdown",
   "id": "c054972c-6d55-4dbf-9b82-abb75404ec63",
   "metadata": {
    "id": "0pbG3zwtbPpv"
   },
   "source": [
    "<center><img src=\"https://www.megabagus.id/wp-content/uploads/2024/06/Bootcamp-Data-Science.png\" alt=\"Bootcamp-Data-Science\" border=\"0\">"
   ]
  },
  {
   "cell_type": "markdown",
   "id": "25c65e74-0c56-499e-bad6-8fccaf80a06b",
   "metadata": {
    "id": "IKFeDjB4bPpw"
   },
   "source": [
    "# Modul 23 - Portolio Regresi\n",
    "Mentor: Mega Bagus Herlambang, PhD"
   ]
  },
  {
   "cell_type": "markdown",
   "id": "e537fcb5-ff04-4d2a-b969-74d32941a098",
   "metadata": {},
   "source": [
    "<hr>"
   ]
  },
  {
   "cell_type": "markdown",
   "id": "389f4a42-8aba-4e07-8f8b-457ec0a51b66",
   "metadata": {},
   "source": [
    "<br>"
   ]
  },
  {
   "cell_type": "markdown",
   "id": "69f48973-d066-46a4-bc30-dbe19cbd564a",
   "metadata": {},
   "source": [
    "## 1. Menggabungkan Semua Dengan Pipeline"
   ]
  },
  {
   "cell_type": "code",
   "execution_count": 111,
   "id": "c33cba74-0570-41c2-8fed-63c02b70fb3e",
   "metadata": {},
   "outputs": [],
   "source": [
    "# Mengimpor library\n",
    "import os\n",
    "import numpy as np\n",
    "import pandas as pd\n",
    "import matplotlib.pyplot as plt\n",
    "import seaborn as sns\n",
    "\n",
    "from sklearn.compose import ColumnTransformer\n",
    "from sklearn.pipeline import Pipeline\n",
    "from sklearn.impute import SimpleImputer\n",
    "from sklearn.preprocessing import MinMaxScaler, OneHotEncoder\n",
    "\n",
    "from sklearn.model_selection import train_test_split, GridSearchCV, StratifiedKFold\n",
    "\n",
    "from sklearn.linear_model import LinearRegression, Ridge, Lasso, ElasticNet\n",
    "from sklearn.tree import DecisionTreeRegressor\n",
    "from sklearn import svm\n",
    "from sklearn.neighbors import KNeighborsRegressor\n",
    "from sklearn.ensemble import GradientBoostingRegressor, RandomForestRegressor\n",
    "from sklearn.neural_network import MLPRegressor\n",
    "from sklearn.inspection import permutation_importance\n",
    "from xgboost import XGBRegressor\n",
    "from lightgbm import LGBMRegressor\n",
    "\n",
    "from sklearn.model_selection import train_test_split, cross_val_score, GridSearchCV, StratifiedKFold\n",
    "\n",
    "from sklearn.metrics import mean_absolute_error, mean_squared_error, r2_score"
   ]
  },
  {
   "cell_type": "code",
   "execution_count": 112,
   "id": "aeda7f4e-499e-4536-b061-e9c717ac7942",
   "metadata": {},
   "outputs": [],
   "source": [
    "# Menghilangkan warning\n",
    "import warnings\n",
    "warnings.filterwarnings(\"ignore\")"
   ]
  },
  {
   "cell_type": "code",
   "execution_count": 113,
   "id": "e2ef91e7-6626-4edd-9f6a-b69f8ff53219",
   "metadata": {},
   "outputs": [],
   "source": [
    "# Pastikan sudah menginstall library shap (hilangkan tanda # di bawah)\n",
    "#conda install shap"
   ]
  },
  {
   "cell_type": "code",
   "execution_count": 114,
   "id": "93e62c23-d7f8-4203-9279-ba6f59e10a8e",
   "metadata": {},
   "outputs": [],
   "source": [
    "# Mengimpor shap\n",
    "import shap"
   ]
  },
  {
   "cell_type": "code",
   "execution_count": 115,
   "id": "e01c5328-7352-4edc-83ab-84035ee27b6f",
   "metadata": {},
   "outputs": [],
   "source": [
    "# Pastikan sudah menginstall xlrd (hilangkan tanda # di bawah)\n",
    "#!conda install xlrd"
   ]
  },
  {
   "cell_type": "markdown",
   "id": "7584710d-b7a8-476d-aa58-f42f0de651e4",
   "metadata": {},
   "source": [
    "Sumber data: https://archive.ics.uci.edu/dataset/165/concrete+compressive+strength"
   ]
  },
  {
   "cell_type": "markdown",
   "id": "1ae350d2-8d63-4708-9242-fcd5c26adca8",
   "metadata": {},
   "source": [
    "### Edit ketiga item di bawah ini:"
   ]
  },
  {
   "cell_type": "code",
   "execution_count": 118,
   "id": "0eca9d22-f2a4-46de-b538-72567ba74e4d",
   "metadata": {},
   "outputs": [],
   "source": [
    "# Tentukan nama file, target, dan jumlah fold untuk cross validation\n",
    "\n",
    "# Tulis nama file di sini lengkap dengan extension-nya dalam format string\n",
    "nama_file = 'Real estate valuation data set.xlsx'\n",
    "\n",
    "# Tulis nama variabel targetnya dalam format string\n",
    "target = 'House price'\n",
    "\n",
    "# Tulis jumlah fold (integer) untuk cross validation\n",
    "cv = 10"
   ]
  },
  {
   "cell_type": "code",
   "execution_count": 119,
   "id": "94633753-5f3f-4f52-9fc5-b86caac78d83",
   "metadata": {},
   "outputs": [
    {
     "data": {
      "text/html": [
       "<div>\n",
       "<style scoped>\n",
       "    .dataframe tbody tr th:only-of-type {\n",
       "        vertical-align: middle;\n",
       "    }\n",
       "\n",
       "    .dataframe tbody tr th {\n",
       "        vertical-align: top;\n",
       "    }\n",
       "\n",
       "    .dataframe thead th {\n",
       "        text-align: right;\n",
       "    }\n",
       "</style>\n",
       "<table border=\"1\" class=\"dataframe\">\n",
       "  <thead>\n",
       "    <tr style=\"text-align: right;\">\n",
       "      <th></th>\n",
       "      <th>No</th>\n",
       "      <th>X1 transaction date</th>\n",
       "      <th>X2 house age</th>\n",
       "      <th>X3 distance to the nearest MRT station</th>\n",
       "      <th>X4 number of convenience stores</th>\n",
       "      <th>X5 latitude</th>\n",
       "      <th>X6 longitude</th>\n",
       "      <th>Y house price of unit area</th>\n",
       "    </tr>\n",
       "  </thead>\n",
       "  <tbody>\n",
       "    <tr>\n",
       "      <th>0</th>\n",
       "      <td>1</td>\n",
       "      <td>2012.916667</td>\n",
       "      <td>32.0</td>\n",
       "      <td>84.87882</td>\n",
       "      <td>10</td>\n",
       "      <td>24.98298</td>\n",
       "      <td>121.54024</td>\n",
       "      <td>37.9</td>\n",
       "    </tr>\n",
       "    <tr>\n",
       "      <th>1</th>\n",
       "      <td>2</td>\n",
       "      <td>2012.916667</td>\n",
       "      <td>19.5</td>\n",
       "      <td>306.59470</td>\n",
       "      <td>9</td>\n",
       "      <td>24.98034</td>\n",
       "      <td>121.53951</td>\n",
       "      <td>42.2</td>\n",
       "    </tr>\n",
       "    <tr>\n",
       "      <th>2</th>\n",
       "      <td>3</td>\n",
       "      <td>2013.583333</td>\n",
       "      <td>13.3</td>\n",
       "      <td>561.98450</td>\n",
       "      <td>5</td>\n",
       "      <td>24.98746</td>\n",
       "      <td>121.54391</td>\n",
       "      <td>47.3</td>\n",
       "    </tr>\n",
       "    <tr>\n",
       "      <th>3</th>\n",
       "      <td>4</td>\n",
       "      <td>2013.500000</td>\n",
       "      <td>13.3</td>\n",
       "      <td>561.98450</td>\n",
       "      <td>5</td>\n",
       "      <td>24.98746</td>\n",
       "      <td>121.54391</td>\n",
       "      <td>54.8</td>\n",
       "    </tr>\n",
       "    <tr>\n",
       "      <th>4</th>\n",
       "      <td>5</td>\n",
       "      <td>2012.833333</td>\n",
       "      <td>5.0</td>\n",
       "      <td>390.56840</td>\n",
       "      <td>5</td>\n",
       "      <td>24.97937</td>\n",
       "      <td>121.54245</td>\n",
       "      <td>43.1</td>\n",
       "    </tr>\n",
       "  </tbody>\n",
       "</table>\n",
       "</div>"
      ],
      "text/plain": [
       "   No  X1 transaction date  X2 house age  \\\n",
       "0   1          2012.916667          32.0   \n",
       "1   2          2012.916667          19.5   \n",
       "2   3          2013.583333          13.3   \n",
       "3   4          2013.500000          13.3   \n",
       "4   5          2012.833333           5.0   \n",
       "\n",
       "   X3 distance to the nearest MRT station  X4 number of convenience stores  \\\n",
       "0                                84.87882                               10   \n",
       "1                               306.59470                                9   \n",
       "2                               561.98450                                5   \n",
       "3                               561.98450                                5   \n",
       "4                               390.56840                                5   \n",
       "\n",
       "   X5 latitude  X6 longitude  Y house price of unit area  \n",
       "0     24.98298     121.54024                        37.9  \n",
       "1     24.98034     121.53951                        42.2  \n",
       "2     24.98746     121.54391                        47.3  \n",
       "3     24.98746     121.54391                        54.8  \n",
       "4     24.97937     121.54245                        43.1  "
      ]
     },
     "execution_count": 119,
     "metadata": {},
     "output_type": "execute_result"
    }
   ],
   "source": [
    "# Load dataset (sesuaikan apakah dia csv, excel, dll)\n",
    "df = pd.read_excel(nama_file)\n",
    "\n",
    "# Melihat tampilan dataset\n",
    "df.head()"
   ]
  },
  {
   "cell_type": "code",
   "execution_count": 120,
   "id": "aafc208b-e1d4-4018-a6ce-3dae0fdd3a64",
   "metadata": {},
   "outputs": [
    {
     "data": {
      "text/plain": [
       "Index(['No', 'X1 transaction date', 'X2 house age',\n",
       "       'X3 distance to the nearest MRT station',\n",
       "       'X4 number of convenience stores', 'X5 latitude', 'X6 longitude',\n",
       "       'Y house price of unit area'],\n",
       "      dtype='object')"
      ]
     },
     "execution_count": 120,
     "metadata": {},
     "output_type": "execute_result"
    }
   ],
   "source": [
    "# Melihat nama kolom\n",
    "df.columns"
   ]
  },
  {
   "cell_type": "code",
   "execution_count": 121,
   "id": "5cd8771e-3d2c-40b3-bdc5-e1b5854cf22c",
   "metadata": {},
   "outputs": [],
   "source": [
    "# Merubah nama kolom (pastikan tidak ada salah ketik nama kolom)\n",
    "df.rename(columns={'X1 transaction date': 'Date', \n",
    "                   'X2 house age': 'House age',\n",
    "                   'X3 distance to the nearest MRT station': 'Distance to MRT',\n",
    "                   'X4 number of convenience stores':'Minimarket',\n",
    "                   'X5 latitude': 'Latitude',\n",
    "                   'X6 longitude': 'Longtuade',\n",
    "                   'Y house price of unit area': 'House price'}, inplace=True)"
   ]
  },
  {
   "cell_type": "code",
   "execution_count": 122,
   "id": "f1c3a9e0-174a-4019-b1ba-d928b979a48f",
   "metadata": {},
   "outputs": [
    {
     "data": {
      "text/html": [
       "<div>\n",
       "<style scoped>\n",
       "    .dataframe tbody tr th:only-of-type {\n",
       "        vertical-align: middle;\n",
       "    }\n",
       "\n",
       "    .dataframe tbody tr th {\n",
       "        vertical-align: top;\n",
       "    }\n",
       "\n",
       "    .dataframe thead th {\n",
       "        text-align: right;\n",
       "    }\n",
       "</style>\n",
       "<table border=\"1\" class=\"dataframe\">\n",
       "  <thead>\n",
       "    <tr style=\"text-align: right;\">\n",
       "      <th></th>\n",
       "      <th>No</th>\n",
       "      <th>Date</th>\n",
       "      <th>House age</th>\n",
       "      <th>Distance to MRT</th>\n",
       "      <th>Minimarket</th>\n",
       "      <th>Latitude</th>\n",
       "      <th>Longtuade</th>\n",
       "      <th>House price</th>\n",
       "    </tr>\n",
       "  </thead>\n",
       "  <tbody>\n",
       "    <tr>\n",
       "      <th>0</th>\n",
       "      <td>1</td>\n",
       "      <td>2012.916667</td>\n",
       "      <td>32.0</td>\n",
       "      <td>84.87882</td>\n",
       "      <td>10</td>\n",
       "      <td>24.98298</td>\n",
       "      <td>121.54024</td>\n",
       "      <td>37.9</td>\n",
       "    </tr>\n",
       "    <tr>\n",
       "      <th>1</th>\n",
       "      <td>2</td>\n",
       "      <td>2012.916667</td>\n",
       "      <td>19.5</td>\n",
       "      <td>306.59470</td>\n",
       "      <td>9</td>\n",
       "      <td>24.98034</td>\n",
       "      <td>121.53951</td>\n",
       "      <td>42.2</td>\n",
       "    </tr>\n",
       "    <tr>\n",
       "      <th>2</th>\n",
       "      <td>3</td>\n",
       "      <td>2013.583333</td>\n",
       "      <td>13.3</td>\n",
       "      <td>561.98450</td>\n",
       "      <td>5</td>\n",
       "      <td>24.98746</td>\n",
       "      <td>121.54391</td>\n",
       "      <td>47.3</td>\n",
       "    </tr>\n",
       "    <tr>\n",
       "      <th>3</th>\n",
       "      <td>4</td>\n",
       "      <td>2013.500000</td>\n",
       "      <td>13.3</td>\n",
       "      <td>561.98450</td>\n",
       "      <td>5</td>\n",
       "      <td>24.98746</td>\n",
       "      <td>121.54391</td>\n",
       "      <td>54.8</td>\n",
       "    </tr>\n",
       "    <tr>\n",
       "      <th>4</th>\n",
       "      <td>5</td>\n",
       "      <td>2012.833333</td>\n",
       "      <td>5.0</td>\n",
       "      <td>390.56840</td>\n",
       "      <td>5</td>\n",
       "      <td>24.97937</td>\n",
       "      <td>121.54245</td>\n",
       "      <td>43.1</td>\n",
       "    </tr>\n",
       "  </tbody>\n",
       "</table>\n",
       "</div>"
      ],
      "text/plain": [
       "   No         Date  House age  Distance to MRT  Minimarket  Latitude  \\\n",
       "0   1  2012.916667       32.0         84.87882          10  24.98298   \n",
       "1   2  2012.916667       19.5        306.59470           9  24.98034   \n",
       "2   3  2013.583333       13.3        561.98450           5  24.98746   \n",
       "3   4  2013.500000       13.3        561.98450           5  24.98746   \n",
       "4   5  2012.833333        5.0        390.56840           5  24.97937   \n",
       "\n",
       "   Longtuade  House price  \n",
       "0  121.54024         37.9  \n",
       "1  121.53951         42.2  \n",
       "2  121.54391         47.3  \n",
       "3  121.54391         54.8  \n",
       "4  121.54245         43.1  "
      ]
     },
     "execution_count": 122,
     "metadata": {},
     "output_type": "execute_result"
    }
   ],
   "source": [
    "# Melihat datanya lagi\n",
    "df.head()"
   ]
  },
  {
   "cell_type": "code",
   "execution_count": 123,
   "id": "ab3dceab-97f6-404f-8f1d-04c863edb1da",
   "metadata": {
    "tags": []
   },
   "outputs": [
    {
     "name": "stdout",
     "output_type": "stream",
     "text": [
      "<class 'pandas.core.frame.DataFrame'>\n",
      "RangeIndex: 414 entries, 0 to 413\n",
      "Data columns (total 8 columns):\n",
      " #   Column           Non-Null Count  Dtype  \n",
      "---  ------           --------------  -----  \n",
      " 0   No               414 non-null    int64  \n",
      " 1   Date             414 non-null    float64\n",
      " 2   House age        414 non-null    float64\n",
      " 3   Distance to MRT  414 non-null    float64\n",
      " 4   Minimarket       414 non-null    int64  \n",
      " 5   Latitude         414 non-null    float64\n",
      " 6   Longtuade        414 non-null    float64\n",
      " 7   House price      414 non-null    float64\n",
      "dtypes: float64(6), int64(2)\n",
      "memory usage: 26.0 KB\n"
     ]
    }
   ],
   "source": [
    "# Kita lihat ringkasan data\n",
    "df.info()"
   ]
  },
  {
   "cell_type": "code",
   "execution_count": 124,
   "id": "0f14bf51-c666-4e9e-8481-e477bdb464b7",
   "metadata": {},
   "outputs": [
    {
     "name": "stdout",
     "output_type": "stream",
     "text": [
      "No = 414\n",
      "Date = 12\n",
      "House age = 236\n",
      "Distance to MRT = 259\n",
      "Minimarket = 11\n",
      "Latitude = 234\n",
      "Longtuade = 232\n",
      "House price = 270\n"
     ]
    }
   ],
   "source": [
    "# Melihat jumlah nilai unik di setiap kolom\n",
    "for i in df.columns:\n",
    "    print(i,'=',len(df[i].unique()))"
   ]
  },
  {
   "cell_type": "code",
   "execution_count": 125,
   "id": "eb939515-fed0-450c-9890-27cfff3dd53f",
   "metadata": {},
   "outputs": [
    {
     "data": {
      "image/png": "[encoded data removed]",
      "text/plain": [
       "<Figure size 640x480 with 2 Axes>"
      ]
     },
     "metadata": {},
     "output_type": "display_data"
    }
   ],
   "source": [
    "# Correlation matrix\n",
    "sns.set_style(\"white\")\n",
    "sns.heatmap(df.corr(), cmap=\"Blues\", annot=True);"
   ]
  },
  {
   "cell_type": "code",
   "execution_count": 126,
   "id": "a0d02f31-fd13-4195-a943-8e07188d77b9",
   "metadata": {},
   "outputs": [
    {
     "name": "stdout",
     "output_type": "stream",
     "text": [
      "[]\n",
      "['No', 'Date', 'House age', 'Distance to MRT', 'Minimarket', 'Latitude', 'Longtuade']\n"
     ]
    }
   ],
   "source": [
    "# Membagi kolom menjadi kolom numerik dan kategori\n",
    "var_kategori = [var for var in df.columns if df[var].dtype=='O' and var!=target]\n",
    "var_numerik = [var for var in df.columns if df[var].dtype!='O' and var!=target]\n",
    "\n",
    "# Melihat variabel yang sudah dipisah\n",
    "print(var_kategori)\n",
    "print(var_numerik)"
   ]
  },
  {
   "cell_type": "code",
   "execution_count": 127,
   "id": "bfa86520-2071-423e-b91e-93005832b283",
   "metadata": {},
   "outputs": [
    {
     "data": {
      "text/plain": [
       "No                 0.0\n",
       "Date               0.0\n",
       "House age          0.0\n",
       "Distance to MRT    0.0\n",
       "Minimarket         0.0\n",
       "Latitude           0.0\n",
       "Longtuade          0.0\n",
       "House price        0.0\n",
       "dtype: float64"
      ]
     },
     "execution_count": 127,
     "metadata": {},
     "output_type": "execute_result"
    }
   ],
   "source": [
    "# Mengecek data kosong\n",
    "df.isnull().mean()"
   ]
  },
  {
   "cell_type": "code",
   "execution_count": 128,
   "id": "905988a2-2cdf-4ca1-b6d6-74d779e6994f",
   "metadata": {},
   "outputs": [
    {
     "data": {
      "text/plain": [
       "((331, 7), (83, 7))"
      ]
     },
     "execution_count": 128,
     "metadata": {},
     "output_type": "execute_result"
    }
   ],
   "source": [
    "# Splitting data\n",
    "X_train, X_test, y_train, y_test = train_test_split(\n",
    "    df.drop([target], axis=1),\n",
    "    df[target],\n",
    "    test_size = 0.2,\n",
    "    random_state = 0)\n",
    "\n",
    "# Reset indeks dengan looping\n",
    "for i in [X_train, X_test, y_train, y_test]:\n",
    "    i.reset_index(drop=True, inplace=True)\n",
    "\n",
    "# Melihat dimensi training dan test set\n",
    "X_train.shape, X_test.shape"
   ]
  },
  {
   "cell_type": "code",
   "execution_count": 129,
   "id": "7ff9cb79-1496-4df8-8d65-0f0c2ad801b9",
   "metadata": {},
   "outputs": [],
   "source": [
    "# Membuat Pipeline untuk preprocessing\n",
    "preprocessor_numerik = Pipeline([\n",
    "    ('imputasi', SimpleImputer(strategy='median')),\n",
    "    ('scaling', MinMaxScaler())\n",
    "])\n",
    "\n",
    "preprocessor_kategori = Pipeline([\n",
    "    ('imputasi', SimpleImputer(strategy='constant', fill_value='missing')),\n",
    "    ('encoding', OneHotEncoder(drop='first', handle_unknown='ignore'))         \n",
    "])\n",
    "\n",
    "# Menggabungkan kedua pipeline di atas\n",
    "preprocessor = ColumnTransformer([\n",
    "    ('preprocessing numerik', preprocessor_numerik, var_numerik),\n",
    "    ('preprocessing kategori', preprocessor_kategori, var_kategori)],\n",
    "    remainder='passthrough',\n",
    "    verbose_feature_names_out=False\n",
    ")"
   ]
  },
  {
   "cell_type": "markdown",
   "id": "8f1750d3-bb8d-44c4-a738-cf420413f478",
   "metadata": {},
   "source": [
    "Sekarang kita akan uji coba membuat model regresi menggunakan `LinearRegression()`."
   ]
  },
  {
   "cell_type": "code",
   "execution_count": 131,
   "id": "b206f6ec-c8ae-4ba6-bf97-8b1c95fc2afa",
   "metadata": {},
   "outputs": [],
   "source": [
    "# Membuat Pipeline untuk modeling\n",
    "model_reg = Pipeline(steps=[\n",
    "    ('preprocessing', preprocessor),\n",
    "    ('regresi', LinearRegression())\n",
    "])"
   ]
  },
  {
   "cell_type": "code",
   "execution_count": 132,
   "id": "c9670628-1908-441c-861c-57838b5a1352",
   "metadata": {},
   "outputs": [
    {
     "data": {
      "text/html": [
       "<style>#sk-container-id-1 {color: black;}#sk-container-id-1 pre{padding: 0;}#sk-container-id-1 div.sk-toggleable {background-color: white;}#sk-container-id-1 label.sk-toggleable__label {cursor: pointer;display: block;width: 100%;margin-bottom: 0;padding: 0.3em;box-sizing: border-box;text-align: center;}#sk-container-id-1 label.sk-toggleable__label-arrow:before {content: \"▸\";float: left;margin-right: 0.25em;color: #696969;}#sk-container-id-1 label.sk-toggleable__label-arrow:hover:before {color: black;}#sk-container-id-1 div.sk-estimator:hover label.sk-toggleable__label-arrow:before {color: black;}#sk-container-id-1 div.sk-toggleable__content {max-height: 0;max-width: 0;overflow: hidden;text-align: left;background-color: #f0f8ff;}#sk-container-id-1 div.sk-toggleable__content pre {margin: 0.2em;color: black;border-radius: 0.25em;background-color: #f0f8ff;}#sk-container-id-1 input.sk-toggleable__control:checked~div.sk-toggleable__content {max-height: 200px;max-width: 100%;overflow: auto;}#sk-container-id-1 input.sk-toggleable__control:checked~label.sk-toggleable__label-arrow:before {content: \"▾\";}#sk-container-id-1 div.sk-estimator input.sk-toggleable__control:checked~label.sk-toggleable__label {background-color: #d4ebff;}#sk-container-id-1 div.sk-label input.sk-toggleable__control:checked~label.sk-toggleable__label {background-color: #d4ebff;}#sk-container-id-1 input.sk-hidden--visually {border: 0;clip: rect(1px 1px 1px 1px);clip: rect(1px, 1px, 1px, 1px);height: 1px;margin: -1px;overflow: hidden;padding: 0;position: absolute;width: 1px;}#sk-container-id-1 div.sk-estimator {font-family: monospace;background-color: #f0f8ff;border: 1px dotted black;border-radius: 0.25em;box-sizing: border-box;margin-bottom: 0.5em;}#sk-container-id-1 div.sk-estimator:hover {background-color: #d4ebff;}#sk-container-id-1 div.sk-parallel-item::after {content: \"\";width: 100%;border-bottom: 1px solid gray;flex-grow: 1;}#sk-container-id-1 div.sk-label:hover label.sk-toggleable__label {background-color: #d4ebff;}#sk-container-id-1 div.sk-serial::before {content: \"\";position: absolute;border-left: 1px solid gray;box-sizing: border-box;top: 0;bottom: 0;left: 50%;z-index: 0;}#sk-container-id-1 div.sk-serial {display: flex;flex-direction: column;align-items: center;background-color: white;padding-right: 0.2em;padding-left: 0.2em;position: relative;}#sk-container-id-1 div.sk-item {position: relative;z-index: 1;}#sk-container-id-1 div.sk-parallel {display: flex;align-items: stretch;justify-content: center;background-color: white;position: relative;}#sk-container-id-1 div.sk-item::before, #sk-container-id-1 div.sk-parallel-item::before {content: \"\";position: absolute;border-left: 1px solid gray;box-sizing: border-box;top: 0;bottom: 0;left: 50%;z-index: -1;}#sk-container-id-1 div.sk-parallel-item {display: flex;flex-direction: column;z-index: 1;position: relative;background-color: white;}#sk-container-id-1 div.sk-parallel-item:first-child::after {align-self: flex-end;width: 50%;}#sk-container-id-1 div.sk-parallel-item:last-child::after {align-self: flex-start;width: 50%;}#sk-container-id-1 div.sk-parallel-item:only-child::after {width: 0;}#sk-container-id-1 div.sk-dashed-wrapped {border: 1px dashed gray;margin: 0 0.4em 0.5em 0.4em;box-sizing: border-box;padding-bottom: 0.4em;background-color: white;}#sk-container-id-1 div.sk-label label {font-family: monospace;font-weight: bold;display: inline-block;line-height: 1.2em;}#sk-container-id-1 div.sk-label-container {text-align: center;}#sk-container-id-1 div.sk-container {/* jupyter's `normalize.less` sets `[hidden] { display: none; }` but bootstrap.min.css set `[hidden] { display: none !important; }` so we also need the `!important` here to be able to override the default hidden behavior on the sphinx rendered scikit-learn.org. See: https://github.com/scikit-learn/scikit-learn/issues/21755 */display: inline-block !important;position: relative;}#sk-container-id-1 div.sk-text-repr-fallback {display: none;}</style><div id=\"sk-container-id-1\" class=\"sk-top-container\"><div class=\"sk-text-repr-fallback\"><pre>Pipeline(steps=[(&#x27;preprocessing&#x27;,\n",
       "                 ColumnTransformer(remainder=&#x27;passthrough&#x27;,\n",
       "                                   transformers=[(&#x27;preprocessing numerik&#x27;,\n",
       "                                                  Pipeline(steps=[(&#x27;imputasi&#x27;,\n",
       "                                                                   SimpleImputer(strategy=&#x27;median&#x27;)),\n",
       "                                                                  (&#x27;scaling&#x27;,\n",
       "                                                                   MinMaxScaler())]),\n",
       "                                                  [&#x27;No&#x27;, &#x27;Date&#x27;, &#x27;House age&#x27;,\n",
       "                                                   &#x27;Distance to MRT&#x27;,\n",
       "                                                   &#x27;Minimarket&#x27;, &#x27;Latitude&#x27;,\n",
       "                                                   &#x27;Longtuade&#x27;]),\n",
       "                                                 (&#x27;preprocessing kategori&#x27;,\n",
       "                                                  Pipeline(steps=[(&#x27;imputasi&#x27;,\n",
       "                                                                   SimpleImputer(fill_value=&#x27;missing&#x27;,\n",
       "                                                                                 strategy=&#x27;constant&#x27;)),\n",
       "                                                                  (&#x27;encoding&#x27;,\n",
       "                                                                   OneHotEncoder(drop=&#x27;first&#x27;,\n",
       "                                                                                 handle_unknown=&#x27;ignore&#x27;))]),\n",
       "                                                  [])],\n",
       "                                   verbose_feature_names_out=False)),\n",
       "                (&#x27;regresi&#x27;, LinearRegression())])</pre><b>In a Jupyter environment, please rerun this cell to show the HTML representation or trust the notebook. <br />On GitHub, the HTML representation is unable to render, please try loading this page with nbviewer.org.</b></div><div class=\"sk-container\" hidden><div class=\"sk-item sk-dashed-wrapped\"><div class=\"sk-label-container\"><div class=\"sk-label sk-toggleable\"><input class=\"sk-toggleable__control sk-hidden--visually\" id=\"sk-estimator-id-1\" type=\"checkbox\" ><label for=\"sk-estimator-id-1\" class=\"sk-toggleable__label sk-toggleable__label-arrow\">Pipeline</label><div class=\"sk-toggleable__content\"><pre>Pipeline(steps=[(&#x27;preprocessing&#x27;,\n",
       "                 ColumnTransformer(remainder=&#x27;passthrough&#x27;,\n",
       "                                   transformers=[(&#x27;preprocessing numerik&#x27;,\n",
       "                                                  Pipeline(steps=[(&#x27;imputasi&#x27;,\n",
       "                                                                   SimpleImputer(strategy=&#x27;median&#x27;)),\n",
       "                                                                  (&#x27;scaling&#x27;,\n",
       "                                                                   MinMaxScaler())]),\n",
       "                                                  [&#x27;No&#x27;, &#x27;Date&#x27;, &#x27;House age&#x27;,\n",
       "                                                   &#x27;Distance to MRT&#x27;,\n",
       "                                                   &#x27;Minimarket&#x27;, &#x27;Latitude&#x27;,\n",
       "                                                   &#x27;Longtuade&#x27;]),\n",
       "                                                 (&#x27;preprocessing kategori&#x27;,\n",
       "                                                  Pipeline(steps=[(&#x27;imputasi&#x27;,\n",
       "                                                                   SimpleImputer(fill_value=&#x27;missing&#x27;,\n",
       "                                                                                 strategy=&#x27;constant&#x27;)),\n",
       "                                                                  (&#x27;encoding&#x27;,\n",
       "                                                                   OneHotEncoder(drop=&#x27;first&#x27;,\n",
       "                                                                                 handle_unknown=&#x27;ignore&#x27;))]),\n",
       "                                                  [])],\n",
       "                                   verbose_feature_names_out=False)),\n",
       "                (&#x27;regresi&#x27;, LinearRegression())])</pre></div></div></div><div class=\"sk-serial\"><div class=\"sk-item sk-dashed-wrapped\"><div class=\"sk-label-container\"><div class=\"sk-label sk-toggleable\"><input class=\"sk-toggleable__control sk-hidden--visually\" id=\"sk-estimator-id-2\" type=\"checkbox\" ><label for=\"sk-estimator-id-2\" class=\"sk-toggleable__label sk-toggleable__label-arrow\">preprocessing: ColumnTransformer</label><div class=\"sk-toggleable__content\"><pre>ColumnTransformer(remainder=&#x27;passthrough&#x27;,\n",
       "                  transformers=[(&#x27;preprocessing numerik&#x27;,\n",
       "                                 Pipeline(steps=[(&#x27;imputasi&#x27;,\n",
       "                                                  SimpleImputer(strategy=&#x27;median&#x27;)),\n",
       "                                                 (&#x27;scaling&#x27;, MinMaxScaler())]),\n",
       "                                 [&#x27;No&#x27;, &#x27;Date&#x27;, &#x27;House age&#x27;, &#x27;Distance to MRT&#x27;,\n",
       "                                  &#x27;Minimarket&#x27;, &#x27;Latitude&#x27;, &#x27;Longtuade&#x27;]),\n",
       "                                (&#x27;preprocessing kategori&#x27;,\n",
       "                                 Pipeline(steps=[(&#x27;imputasi&#x27;,\n",
       "                                                  SimpleImputer(fill_value=&#x27;missing&#x27;,\n",
       "                                                                strategy=&#x27;constant&#x27;)),\n",
       "                                                 (&#x27;encoding&#x27;,\n",
       "                                                  OneHotEncoder(drop=&#x27;first&#x27;,\n",
       "                                                                handle_unknown=&#x27;ignore&#x27;))]),\n",
       "                                 [])],\n",
       "                  verbose_feature_names_out=False)</pre></div></div></div><div class=\"sk-parallel\"><div class=\"sk-parallel-item\"><div class=\"sk-item\"><div class=\"sk-label-container\"><div class=\"sk-label sk-toggleable\"><input class=\"sk-toggleable__control sk-hidden--visually\" id=\"sk-estimator-id-3\" type=\"checkbox\" ><label for=\"sk-estimator-id-3\" class=\"sk-toggleable__label sk-toggleable__label-arrow\">preprocessing numerik</label><div class=\"sk-toggleable__content\"><pre>[&#x27;No&#x27;, &#x27;Date&#x27;, &#x27;House age&#x27;, &#x27;Distance to MRT&#x27;, &#x27;Minimarket&#x27;, &#x27;Latitude&#x27;, &#x27;Longtuade&#x27;]</pre></div></div></div><div class=\"sk-serial\"><div class=\"sk-item\"><div class=\"sk-serial\"><div class=\"sk-item\"><div class=\"sk-estimator sk-toggleable\"><input class=\"sk-toggleable__control sk-hidden--visually\" id=\"sk-estimator-id-4\" type=\"checkbox\" ><label for=\"sk-estimator-id-4\" class=\"sk-toggleable__label sk-toggleable__label-arrow\">SimpleImputer</label><div class=\"sk-toggleable__content\"><pre>SimpleImputer(strategy=&#x27;median&#x27;)</pre></div></div></div><div class=\"sk-item\"><div class=\"sk-estimator sk-toggleable\"><input class=\"sk-toggleable__control sk-hidden--visually\" id=\"sk-estimator-id-5\" type=\"checkbox\" ><label for=\"sk-estimator-id-5\" class=\"sk-toggleable__label sk-toggleable__label-arrow\">MinMaxScaler</label><div class=\"sk-toggleable__content\"><pre>MinMaxScaler()</pre></div></div></div></div></div></div></div></div><div class=\"sk-parallel-item\"><div class=\"sk-item\"><div class=\"sk-label-container\"><div class=\"sk-label sk-toggleable\"><input class=\"sk-toggleable__control sk-hidden--visually\" id=\"sk-estimator-id-6\" type=\"checkbox\" ><label for=\"sk-estimator-id-6\" class=\"sk-toggleable__label sk-toggleable__label-arrow\">preprocessing kategori</label><div class=\"sk-toggleable__content\"><pre>[]</pre></div></div></div><div class=\"sk-serial\"><div class=\"sk-item\"><div class=\"sk-serial\"><div class=\"sk-item\"><div class=\"sk-estimator sk-toggleable\"><input class=\"sk-toggleable__control sk-hidden--visually\" id=\"sk-estimator-id-7\" type=\"checkbox\" ><label for=\"sk-estimator-id-7\" class=\"sk-toggleable__label sk-toggleable__label-arrow\">SimpleImputer</label><div class=\"sk-toggleable__content\"><pre>SimpleImputer(fill_value=&#x27;missing&#x27;, strategy=&#x27;constant&#x27;)</pre></div></div></div><div class=\"sk-item\"><div class=\"sk-estimator sk-toggleable\"><input class=\"sk-toggleable__control sk-hidden--visually\" id=\"sk-estimator-id-8\" type=\"checkbox\" ><label for=\"sk-estimator-id-8\" class=\"sk-toggleable__label sk-toggleable__label-arrow\">OneHotEncoder</label><div class=\"sk-toggleable__content\"><pre>OneHotEncoder(drop=&#x27;first&#x27;, handle_unknown=&#x27;ignore&#x27;)</pre></div></div></div></div></div></div></div></div><div class=\"sk-parallel-item\"><div class=\"sk-item\"><div class=\"sk-label-container\"><div class=\"sk-label sk-toggleable\"><input class=\"sk-toggleable__control sk-hidden--visually\" id=\"sk-estimator-id-9\" type=\"checkbox\" ><label for=\"sk-estimator-id-9\" class=\"sk-toggleable__label sk-toggleable__label-arrow\">remainder</label><div class=\"sk-toggleable__content\"><pre>[]</pre></div></div></div><div class=\"sk-serial\"><div class=\"sk-item\"><div class=\"sk-estimator sk-toggleable\"><input class=\"sk-toggleable__control sk-hidden--visually\" id=\"sk-estimator-id-10\" type=\"checkbox\" ><label for=\"sk-estimator-id-10\" class=\"sk-toggleable__label sk-toggleable__label-arrow\">passthrough</label><div class=\"sk-toggleable__content\"><pre>passthrough</pre></div></div></div></div></div></div></div></div><div class=\"sk-item\"><div class=\"sk-estimator sk-toggleable\"><input class=\"sk-toggleable__control sk-hidden--visually\" id=\"sk-estimator-id-11\" type=\"checkbox\" ><label for=\"sk-estimator-id-11\" class=\"sk-toggleable__label sk-toggleable__label-arrow\">LinearRegression</label><div class=\"sk-toggleable__content\"><pre>LinearRegression()</pre></div></div></div></div></div></div></div>"
      ],
      "text/plain": [
       "Pipeline(steps=[('preprocessing',\n",
       "                 ColumnTransformer(remainder='passthrough',\n",
       "                                   transformers=[('preprocessing numerik',\n",
       "                                                  Pipeline(steps=[('imputasi',\n",
       "                                                                   SimpleImputer(strategy='median')),\n",
       "                                                                  ('scaling',\n",
       "                                                                   MinMaxScaler())]),\n",
       "                                                  ['No', 'Date', 'House age',\n",
       "                                                   'Distance to MRT',\n",
       "                                                   'Minimarket', 'Latitude',\n",
       "                                                   'Longtuade']),\n",
       "                                                 ('preprocessing kategori',\n",
       "                                                  Pipeline(steps=[('imputasi',\n",
       "                                                                   SimpleImputer(fill_value='missing',\n",
       "                                                                                 strategy='constant')),\n",
       "                                                                  ('encoding',\n",
       "                                                                   OneHotEncoder(drop='first',\n",
       "                                                                                 handle_unknown='ignore'))]),\n",
       "                                                  [])],\n",
       "                                   verbose_feature_names_out=False)),\n",
       "                ('regresi', LinearRegression())])"
      ]
     },
     "execution_count": 132,
     "metadata": {},
     "output_type": "execute_result"
    }
   ],
   "source": [
    "# Mengeksekusi Pipeline akhir\n",
    "model_reg.fit(X_train, y_train)"
   ]
  },
  {
   "cell_type": "code",
   "execution_count": 133,
   "id": "ebddbb62-9599-4aae-a5a5-f2074ebbb451",
   "metadata": {},
   "outputs": [
    {
     "data": {
      "text/plain": [
       "array([30.92500862, 35.97531393, 32.97959201, 42.20468809, 46.42516744])"
      ]
     },
     "execution_count": 133,
     "metadata": {},
     "output_type": "execute_result"
    }
   ],
   "source": [
    "# Mencoba memprediksi training set (5 baris pertama)\n",
    "model_reg.predict(X_train)[:5]"
   ]
  },
  {
   "cell_type": "markdown",
   "id": "1d91f8a2-be4b-4df6-a924-9baf5cb105ae",
   "metadata": {},
   "source": [
    "Untuk melihat koefisien intercept dan koefisien variabel independen lainnya, kita menggunakan cara yang berbeda untuk Pipeline, di mana kita harus menuliskan nama *step*nya di Pipeline."
   ]
  },
  {
   "cell_type": "code",
   "execution_count": 135,
   "id": "d37e724e-28ec-47d9-a2d0-ca45b8ea9f47",
   "metadata": {},
   "outputs": [
    {
     "name": "stdout",
     "output_type": "stream",
     "text": [
      "33.87299921070827\n",
      "[ -1.83792422   4.46911233 -11.50993089 -29.20386875  10.81079316\n",
      "  18.65586459  -0.91405888]\n"
     ]
    }
   ],
   "source": [
    "# Melihat intercept\n",
    "print(model_reg['regresi'].intercept_)\n",
    "\n",
    "# Melihat koefisien\n",
    "print(model_reg['regresi'].coef_)"
   ]
  },
  {
   "cell_type": "code",
   "execution_count": 136,
   "id": "938ec824-c947-4964-b76f-e5970fbfddae",
   "metadata": {},
   "outputs": [
    {
     "name": "stdout",
     "output_type": "stream",
     "text": [
      "['No' 'Date' 'House age' 'Distance to MRT' 'Minimarket' 'Latitude'\n",
      " 'Longtuade']\n"
     ]
    }
   ],
   "source": [
    "# Melihat nama kolom preprocessing\n",
    "print(model_reg['preprocessing'].get_feature_names_out())"
   ]
  },
  {
   "cell_type": "code",
   "execution_count": 137,
   "id": "d0f06457-5ce4-4ec6-9249-9c2d32b1906d",
   "metadata": {
    "tags": []
   },
   "outputs": [
    {
     "name": "stdout",
     "output_type": "stream",
     "text": [
      "House price = 33.87299921070827 + -1.8379242241248934 * No +\n",
      "4.469112334488368 * Date +\n",
      "-11.509930890583218 * House age +\n",
      "-29.203868746247185 * Distance to MRT +\n",
      "10.81079316419994 * Minimarket +\n",
      "18.655864589613195 * Latitude +\n",
      "-0.9140588837244251 * Longtuade\n"
     ]
    }
   ],
   "source": [
    "# Looping untuk mencetak persamaan regresi linear\n",
    "for i,j in enumerate(model_reg['regresi'].coef_):\n",
    "    if i == 0:\n",
    "        print(str(target),'=',model_reg['regresi'].intercept_,'+',model_reg['regresi'].coef_[i],'*',model_reg['preprocessing'].get_feature_names_out()[i],'+')\n",
    "    elif i != len(model_reg['regresi'].coef_)-1:\n",
    "        print(model_reg['regresi'].coef_[i],'*',model_reg['preprocessing'].get_feature_names_out()[i],'+')\n",
    "    else:\n",
    "        print(model_reg['regresi'].coef_[i],'*',model_reg['preprocessing'].get_feature_names_out()[i])"
   ]
  },
  {
   "cell_type": "markdown",
   "id": "9828cc16-dfd6-4db4-b60c-67ae03bfe089",
   "metadata": {},
   "source": [
    "<br><hr><br>"
   ]
  },
  {
   "cell_type": "markdown",
   "id": "559dd725-e377-459e-9e7b-303fa71ce3b1",
   "metadata": {
    "id": "0g81UA3N3bvU"
   },
   "source": [
    "## 2. Evaluasi Model"
   ]
  },
  {
   "cell_type": "markdown",
   "id": "f067aea6-3482-4487-924f-064020b66eba",
   "metadata": {
    "id": "1nuzGGgDQUe5"
   },
   "source": [
    "Sekarang kita akan coba menggunakan formula di atas untuk memprediksi nilai Profit yang ada di training set menggunakan variabel independen di *training set*, kemudian nanti membandingkan hasilnya dengan `y_train`."
   ]
  },
  {
   "cell_type": "markdown",
   "id": "5a42d5ed-0847-499b-a0b2-c6deee22a0ec",
   "metadata": {},
   "source": [
    "<br>"
   ]
  },
  {
   "cell_type": "markdown",
   "id": "53cac480-ca31-4882-b7f0-bdd460f46cbc",
   "metadata": {
    "id": "9LiTgjdV3k2d"
   },
   "source": [
    "### 2.1 Evaluasi di *Training Set*"
   ]
  },
  {
   "cell_type": "code",
   "execution_count": 143,
   "id": "b5fb6e40-7e23-4147-bfbd-e5e0ea32702e",
   "metadata": {
    "executionInfo": {
     "elapsed": 556,
     "status": "ok",
     "timestamp": 1667549771806,
     "user": {
      "displayName": "Mega Bagus Herlambang",
      "userId": "03891521875432168268"
     },
     "user_tz": -420
    },
    "id": "rhBPhLn3_A_L"
   },
   "outputs": [],
   "source": [
    "# Memprediksi X_train dan membandingkannya hasilnya dengan y_train\n",
    "pred_train = model_reg.predict(X_train)"
   ]
  },
  {
   "cell_type": "code",
   "execution_count": 144,
   "id": "a410d062-25f4-448f-be5e-61dbfb7829b4",
   "metadata": {
    "colab": {
     "base_uri": "https://localhost:8080/",
     "height": 206
    },
    "executionInfo": {
     "elapsed": 15,
     "status": "ok",
     "timestamp": 1667549773511,
     "user": {
      "displayName": "Mega Bagus Herlambang",
      "userId": "03891521875432168268"
     },
     "user_tz": -420
    },
    "id": "tquGFda7_UhZ",
    "outputId": "ca999888-7802-47cc-9624-2033b8168b9d"
   },
   "outputs": [
    {
     "data": {
      "text/html": [
       "<div>\n",
       "<style scoped>\n",
       "    .dataframe tbody tr th:only-of-type {\n",
       "        vertical-align: middle;\n",
       "    }\n",
       "\n",
       "    .dataframe tbody tr th {\n",
       "        vertical-align: top;\n",
       "    }\n",
       "\n",
       "    .dataframe thead th {\n",
       "        text-align: right;\n",
       "    }\n",
       "</style>\n",
       "<table border=\"1\" class=\"dataframe\">\n",
       "  <thead>\n",
       "    <tr style=\"text-align: right;\">\n",
       "      <th></th>\n",
       "      <th>House price</th>\n",
       "    </tr>\n",
       "  </thead>\n",
       "  <tbody>\n",
       "    <tr>\n",
       "      <th>0</th>\n",
       "      <td>30.925009</td>\n",
       "    </tr>\n",
       "    <tr>\n",
       "      <th>1</th>\n",
       "      <td>35.975314</td>\n",
       "    </tr>\n",
       "    <tr>\n",
       "      <th>2</th>\n",
       "      <td>32.979592</td>\n",
       "    </tr>\n",
       "    <tr>\n",
       "      <th>3</th>\n",
       "      <td>42.204688</td>\n",
       "    </tr>\n",
       "    <tr>\n",
       "      <th>4</th>\n",
       "      <td>46.425167</td>\n",
       "    </tr>\n",
       "  </tbody>\n",
       "</table>\n",
       "</div>"
      ],
      "text/plain": [
       "   House price\n",
       "0    30.925009\n",
       "1    35.975314\n",
       "2    32.979592\n",
       "3    42.204688\n",
       "4    46.425167"
      ]
     },
     "execution_count": 144,
     "metadata": {},
     "output_type": "execute_result"
    }
   ],
   "source": [
    "# Hasil prediksi training set\n",
    "pred_train = pd.DataFrame(pred_train, columns=[target])\n",
    "pred_train.head()"
   ]
  },
  {
   "cell_type": "code",
   "execution_count": 145,
   "id": "5e50718b-9e19-40a1-8a2d-e312ebbe9242",
   "metadata": {
    "colab": {
     "base_uri": "https://localhost:8080/",
     "height": 206
    },
    "executionInfo": {
     "elapsed": 352,
     "status": "ok",
     "timestamp": 1667549778562,
     "user": {
      "displayName": "Mega Bagus Herlambang",
      "userId": "03891521875432168268"
     },
     "user_tz": -420
    },
    "id": "RvWRcXH2ISu4",
    "outputId": "4d1dab9c-439e-4969-d3d8-44dc3d62fe6e"
   },
   "outputs": [
    {
     "data": {
      "text/html": [
       "<div>\n",
       "<style scoped>\n",
       "    .dataframe tbody tr th:only-of-type {\n",
       "        vertical-align: middle;\n",
       "    }\n",
       "\n",
       "    .dataframe tbody tr th {\n",
       "        vertical-align: top;\n",
       "    }\n",
       "\n",
       "    .dataframe thead th {\n",
       "        text-align: right;\n",
       "    }\n",
       "</style>\n",
       "<table border=\"1\" class=\"dataframe\">\n",
       "  <thead>\n",
       "    <tr style=\"text-align: right;\">\n",
       "      <th></th>\n",
       "      <th>Prediksi</th>\n",
       "      <th>Asli</th>\n",
       "      <th>Error</th>\n",
       "    </tr>\n",
       "  </thead>\n",
       "  <tbody>\n",
       "    <tr>\n",
       "      <th>0</th>\n",
       "      <td>30.925009</td>\n",
       "      <td>23.2</td>\n",
       "      <td>7.725009</td>\n",
       "    </tr>\n",
       "    <tr>\n",
       "      <th>1</th>\n",
       "      <td>35.975314</td>\n",
       "      <td>29.3</td>\n",
       "      <td>6.675314</td>\n",
       "    </tr>\n",
       "    <tr>\n",
       "      <th>2</th>\n",
       "      <td>32.979592</td>\n",
       "      <td>38.4</td>\n",
       "      <td>5.420408</td>\n",
       "    </tr>\n",
       "    <tr>\n",
       "      <th>3</th>\n",
       "      <td>42.204688</td>\n",
       "      <td>37.5</td>\n",
       "      <td>4.704688</td>\n",
       "    </tr>\n",
       "    <tr>\n",
       "      <th>4</th>\n",
       "      <td>46.425167</td>\n",
       "      <td>34.3</td>\n",
       "      <td>12.125167</td>\n",
       "    </tr>\n",
       "  </tbody>\n",
       "</table>\n",
       "</div>"
      ],
      "text/plain": [
       "    Prediksi  Asli      Error\n",
       "0  30.925009  23.2   7.725009\n",
       "1  35.975314  29.3   6.675314\n",
       "2  32.979592  38.4   5.420408\n",
       "3  42.204688  37.5   4.704688\n",
       "4  46.425167  34.3  12.125167"
      ]
     },
     "execution_count": 145,
     "metadata": {},
     "output_type": "execute_result"
    }
   ],
   "source": [
    "# Membandingkan 2 numpy array (kita gunakan np.column_stack untuk menggabungkan kedua array ini)\n",
    "banding_train = pd.DataFrame(np.column_stack((pred_train, pd.DataFrame(y_train), abs(pred_train - pd.DataFrame(y_train)))), columns=['Prediksi', 'Asli', 'Error'])\n",
    "banding_train.head()"
   ]
  },
  {
   "cell_type": "code",
   "execution_count": 146,
   "id": "b1774e8d-cf76-4a27-b375-27325cbe6060",
   "metadata": {
    "colab": {
     "base_uri": "https://localhost:8080/",
     "height": 300
    },
    "executionInfo": {
     "elapsed": 453,
     "status": "ok",
     "timestamp": 1667549781599,
     "user": {
      "displayName": "Mega Bagus Herlambang",
      "userId": "03891521875432168268"
     },
     "user_tz": -420
    },
    "id": "ByHxcpmA3Jt0",
    "outputId": "326ec538-58cc-4569-e894-71f49cd5ec81"
   },
   "outputs": [
    {
     "data": {
      "text/html": [
       "<div>\n",
       "<style scoped>\n",
       "    .dataframe tbody tr th:only-of-type {\n",
       "        vertical-align: middle;\n",
       "    }\n",
       "\n",
       "    .dataframe tbody tr th {\n",
       "        vertical-align: top;\n",
       "    }\n",
       "\n",
       "    .dataframe thead th {\n",
       "        text-align: right;\n",
       "    }\n",
       "</style>\n",
       "<table border=\"1\" class=\"dataframe\">\n",
       "  <thead>\n",
       "    <tr style=\"text-align: right;\">\n",
       "      <th></th>\n",
       "      <th>Prediksi</th>\n",
       "      <th>Asli</th>\n",
       "      <th>Error</th>\n",
       "    </tr>\n",
       "  </thead>\n",
       "  <tbody>\n",
       "    <tr>\n",
       "      <th>count</th>\n",
       "      <td>331.000000</td>\n",
       "      <td>331.000000</td>\n",
       "      <td>331.000000</td>\n",
       "    </tr>\n",
       "    <tr>\n",
       "      <th>mean</th>\n",
       "      <td>37.976435</td>\n",
       "      <td>37.976435</td>\n",
       "      <td>6.191354</td>\n",
       "    </tr>\n",
       "    <tr>\n",
       "      <th>std</th>\n",
       "      <td>10.318347</td>\n",
       "      <td>13.711788</td>\n",
       "      <td>6.564741</td>\n",
       "    </tr>\n",
       "    <tr>\n",
       "      <th>min</th>\n",
       "      <td>1.740613</td>\n",
       "      <td>7.600000</td>\n",
       "      <td>0.010225</td>\n",
       "    </tr>\n",
       "    <tr>\n",
       "      <th>25%</th>\n",
       "      <td>33.066715</td>\n",
       "      <td>27.500000</td>\n",
       "      <td>2.379609</td>\n",
       "    </tr>\n",
       "    <tr>\n",
       "      <th>50%</th>\n",
       "      <td>39.786496</td>\n",
       "      <td>38.100000</td>\n",
       "      <td>4.710294</td>\n",
       "    </tr>\n",
       "    <tr>\n",
       "      <th>75%</th>\n",
       "      <td>45.502425</td>\n",
       "      <td>46.600000</td>\n",
       "      <td>8.417834</td>\n",
       "    </tr>\n",
       "    <tr>\n",
       "      <th>max</th>\n",
       "      <td>54.590499</td>\n",
       "      <td>117.500000</td>\n",
       "      <td>75.319652</td>\n",
       "    </tr>\n",
       "  </tbody>\n",
       "</table>\n",
       "</div>"
      ],
      "text/plain": [
       "         Prediksi        Asli       Error\n",
       "count  331.000000  331.000000  331.000000\n",
       "mean    37.976435   37.976435    6.191354\n",
       "std     10.318347   13.711788    6.564741\n",
       "min      1.740613    7.600000    0.010225\n",
       "25%     33.066715   27.500000    2.379609\n",
       "50%     39.786496   38.100000    4.710294\n",
       "75%     45.502425   46.600000    8.417834\n",
       "max     54.590499  117.500000   75.319652"
      ]
     },
     "execution_count": 146,
     "metadata": {},
     "output_type": "execute_result"
    }
   ],
   "source": [
    "# Menghitung nilai rata-rata dari error yang sudah dibuat absolut (MAE = Mean absolute error)\n",
    "banding_train.describe()"
   ]
  },
  {
   "cell_type": "code",
   "execution_count": 147,
   "id": "6801e612-327c-49dc-bb26-0d0e024c328d",
   "metadata": {
    "tags": []
   },
   "outputs": [
    {
     "data": {
      "image/png": "[encoded data removed]",
      "text/plain": [
       "<Figure size 640x480 with 1 Axes>"
      ]
     },
     "metadata": {},
     "output_type": "display_data"
    }
   ],
   "source": [
    "# Visualisasi hasil Training Set\n",
    "plt.scatter(pred_train, y_train, color = 'red')\n",
    "plt.plot(pred_train, model_reg.predict(X_train), color = 'blue')\n",
    "plt.title('Prediksi vs Aktual (Training Set)')\n",
    "plt.xlabel('Prediksi')\n",
    "plt.ylabel('Aktual')\n",
    "plt.show()"
   ]
  },
  {
   "cell_type": "markdown",
   "id": "31cf9dcf-5684-4bc3-aeba-714ee150bfe2",
   "metadata": {},
   "source": [
    "<br>"
   ]
  },
  {
   "cell_type": "markdown",
   "id": "0a81f03d-314e-4c10-89fa-f103d1e8b04c",
   "metadata": {
    "id": "EY_LQfi2zwLa"
   },
   "source": [
    "### 2.2 Menghitung *Metrics* di *Training Set*"
   ]
  },
  {
   "cell_type": "code",
   "execution_count": 150,
   "id": "04844e9a-1c8c-4233-908c-65616c2723a4",
   "metadata": {
    "colab": {
     "base_uri": "https://localhost:8080/"
    },
    "executionInfo": {
     "elapsed": 559,
     "status": "ok",
     "timestamp": 1667549789253,
     "user": {
      "displayName": "Mega Bagus Herlambang",
      "userId": "03891521875432168268"
     },
     "user_tz": -420
    },
    "id": "WdiMklgaozca",
    "outputId": "3f41c2f1-e65a-4b30-d3bf-adddbdbefce3"
   },
   "outputs": [
    {
     "name": "stdout",
     "output_type": "stream",
     "text": [
      "MAE = 6.191353582405047\n",
      "MSE = 81.29848905414087\n",
      "RMSE = 9.016567476270605\n",
      "R2 = 0.566281122050213\n"
     ]
    }
   ],
   "source": [
    "# Menghitung nilai error (MAE, MSE, RMSE) di Training Set\n",
    "from sklearn import metrics\n",
    "print('MAE = {}'.format(metrics.mean_absolute_error(y_train, pred_train)))           # MAE adalah nilai error rata-rata seperti yang ada di tabel banding_train\n",
    "print('MSE = {}'.format(metrics.mean_squared_error(y_train, pred_train)))            # penulisan {0:.2f} adalah untuk menuliskan 2 angka di belakang koma\n",
    "print('RMSE = {}'.format(np.sqrt(metrics.mean_squared_error(y_train, pred_train))))\n",
    "print('R2 = {}'.format(metrics.r2_score(y_train, pred_train)))"
   ]
  },
  {
   "cell_type": "code",
   "execution_count": 151,
   "id": "e4c7886c-475e-4509-8282-38fc6ba39cbc",
   "metadata": {
    "colab": {
     "base_uri": "https://localhost:8080/"
    },
    "executionInfo": {
     "elapsed": 348,
     "status": "ok",
     "timestamp": 1667549791726,
     "user": {
      "displayName": "Mega Bagus Herlambang",
      "userId": "03891521875432168268"
     },
     "user_tz": -420
    },
    "id": "Zw0QXyBpj8bO",
    "outputId": "b561e15e-6bc1-493b-82e8-6198fc627e0a"
   },
   "outputs": [
    {
     "name": "stdout",
     "output_type": "stream",
     "text": [
      "Coefficient of Determination (R2) = 0.57\n"
     ]
    }
   ],
   "source": [
    "# Cara lain menghitung R2\n",
    "R2 = model_reg.score(X_train, y_train)\n",
    "print('Coefficient of Determination (R2) = {0:.2f}'.format(R2))"
   ]
  },
  {
   "cell_type": "markdown",
   "id": "9f80c41e-ddfe-47ea-a241-8249afd9cf23",
   "metadata": {},
   "source": [
    "<br>"
   ]
  },
  {
   "cell_type": "markdown",
   "id": "c83e5f84-785a-48f1-9aa2-32c2f3c4961d",
   "metadata": {
    "id": "ejcr1hjezrSx"
   },
   "source": [
    "### 2.3 Evaluasi di *Test Set*"
   ]
  },
  {
   "cell_type": "code",
   "execution_count": 154,
   "id": "5a8bd2ab-ca2f-440f-935b-fa8efdbfdeb7",
   "metadata": {
    "executionInfo": {
     "elapsed": 410,
     "status": "ok",
     "timestamp": 1667549802303,
     "user": {
      "displayName": "Mega Bagus Herlambang",
      "userId": "03891521875432168268"
     },
     "user_tz": -420
    },
    "id": "_7m7PbXEevYT"
   },
   "outputs": [],
   "source": [
    "# Memprediksi hasil Test set\n",
    "pred_test = model_reg.predict(X_test)"
   ]
  },
  {
   "cell_type": "code",
   "execution_count": 155,
   "id": "1268a3f5-529b-4b59-ac5d-0245d6341405",
   "metadata": {
    "colab": {
     "base_uri": "https://localhost:8080/",
     "height": 206
    },
    "executionInfo": {
     "elapsed": 13,
     "status": "ok",
     "timestamp": 1667549803881,
     "user": {
      "displayName": "Mega Bagus Herlambang",
      "userId": "03891521875432168268"
     },
     "user_tz": -420
    },
    "id": "f5Su8sRVlmW_",
    "outputId": "6f444257-e515-4f95-8704-17bc2461aaa8"
   },
   "outputs": [
    {
     "data": {
      "text/html": [
       "<div>\n",
       "<style scoped>\n",
       "    .dataframe tbody tr th:only-of-type {\n",
       "        vertical-align: middle;\n",
       "    }\n",
       "\n",
       "    .dataframe tbody tr th {\n",
       "        vertical-align: top;\n",
       "    }\n",
       "\n",
       "    .dataframe thead th {\n",
       "        text-align: right;\n",
       "    }\n",
       "</style>\n",
       "<table border=\"1\" class=\"dataframe\">\n",
       "  <thead>\n",
       "    <tr style=\"text-align: right;\">\n",
       "      <th></th>\n",
       "      <th>House price</th>\n",
       "    </tr>\n",
       "  </thead>\n",
       "  <tbody>\n",
       "    <tr>\n",
       "      <th>0</th>\n",
       "      <td>39.583643</td>\n",
       "    </tr>\n",
       "    <tr>\n",
       "      <th>1</th>\n",
       "      <td>12.953776</td>\n",
       "    </tr>\n",
       "    <tr>\n",
       "      <th>2</th>\n",
       "      <td>41.925619</td>\n",
       "    </tr>\n",
       "    <tr>\n",
       "      <th>3</th>\n",
       "      <td>12.047437</td>\n",
       "    </tr>\n",
       "    <tr>\n",
       "      <th>4</th>\n",
       "      <td>42.060323</td>\n",
       "    </tr>\n",
       "  </tbody>\n",
       "</table>\n",
       "</div>"
      ],
      "text/plain": [
       "   House price\n",
       "0    39.583643\n",
       "1    12.953776\n",
       "2    41.925619\n",
       "3    12.047437\n",
       "4    42.060323"
      ]
     },
     "execution_count": 155,
     "metadata": {},
     "output_type": "execute_result"
    }
   ],
   "source": [
    "# Hasil prediksi test set\n",
    "pred_test = pd.DataFrame(pred_test, columns=[target])\n",
    "pred_test.head()"
   ]
  },
  {
   "cell_type": "code",
   "execution_count": 156,
   "id": "d90dd71b-245c-4fe7-a664-8214eb7bf642",
   "metadata": {
    "colab": {
     "base_uri": "https://localhost:8080/",
     "height": 363
    },
    "executionInfo": {
     "elapsed": 551,
     "status": "ok",
     "timestamp": 1667549808546,
     "user": {
      "displayName": "Mega Bagus Herlambang",
      "userId": "03891521875432168268"
     },
     "user_tz": -420
    },
    "id": "tKIi2XZ5ltC5",
    "outputId": "3b0e023d-9e2c-4ca4-feed-a80a9bbb401c"
   },
   "outputs": [
    {
     "data": {
      "text/html": [
       "<div>\n",
       "<style scoped>\n",
       "    .dataframe tbody tr th:only-of-type {\n",
       "        vertical-align: middle;\n",
       "    }\n",
       "\n",
       "    .dataframe tbody tr th {\n",
       "        vertical-align: top;\n",
       "    }\n",
       "\n",
       "    .dataframe thead th {\n",
       "        text-align: right;\n",
       "    }\n",
       "</style>\n",
       "<table border=\"1\" class=\"dataframe\">\n",
       "  <thead>\n",
       "    <tr style=\"text-align: right;\">\n",
       "      <th></th>\n",
       "      <th>Prediksi</th>\n",
       "      <th>Asli</th>\n",
       "      <th>Error</th>\n",
       "    </tr>\n",
       "  </thead>\n",
       "  <tbody>\n",
       "    <tr>\n",
       "      <th>0</th>\n",
       "      <td>39.583643</td>\n",
       "      <td>45.3</td>\n",
       "      <td>5.716357</td>\n",
       "    </tr>\n",
       "    <tr>\n",
       "      <th>1</th>\n",
       "      <td>12.953776</td>\n",
       "      <td>14.4</td>\n",
       "      <td>1.446224</td>\n",
       "    </tr>\n",
       "    <tr>\n",
       "      <th>2</th>\n",
       "      <td>41.925619</td>\n",
       "      <td>46.0</td>\n",
       "      <td>4.074381</td>\n",
       "    </tr>\n",
       "    <tr>\n",
       "      <th>3</th>\n",
       "      <td>12.047437</td>\n",
       "      <td>15.6</td>\n",
       "      <td>3.552563</td>\n",
       "    </tr>\n",
       "    <tr>\n",
       "      <th>4</th>\n",
       "      <td>42.060323</td>\n",
       "      <td>50.2</td>\n",
       "      <td>8.139677</td>\n",
       "    </tr>\n",
       "    <tr>\n",
       "      <th>...</th>\n",
       "      <td>...</td>\n",
       "      <td>...</td>\n",
       "      <td>...</td>\n",
       "    </tr>\n",
       "    <tr>\n",
       "      <th>78</th>\n",
       "      <td>46.655282</td>\n",
       "      <td>53.0</td>\n",
       "      <td>6.344718</td>\n",
       "    </tr>\n",
       "    <tr>\n",
       "      <th>79</th>\n",
       "      <td>45.172897</td>\n",
       "      <td>38.2</td>\n",
       "      <td>6.972897</td>\n",
       "    </tr>\n",
       "    <tr>\n",
       "      <th>80</th>\n",
       "      <td>47.709884</td>\n",
       "      <td>46.7</td>\n",
       "      <td>1.009884</td>\n",
       "    </tr>\n",
       "    <tr>\n",
       "      <th>81</th>\n",
       "      <td>29.949724</td>\n",
       "      <td>24.6</td>\n",
       "      <td>5.349724</td>\n",
       "    </tr>\n",
       "    <tr>\n",
       "      <th>82</th>\n",
       "      <td>43.851120</td>\n",
       "      <td>36.2</td>\n",
       "      <td>7.651120</td>\n",
       "    </tr>\n",
       "  </tbody>\n",
       "</table>\n",
       "<p>83 rows × 3 columns</p>\n",
       "</div>"
      ],
      "text/plain": [
       "     Prediksi  Asli     Error\n",
       "0   39.583643  45.3  5.716357\n",
       "1   12.953776  14.4  1.446224\n",
       "2   41.925619  46.0  4.074381\n",
       "3   12.047437  15.6  3.552563\n",
       "4   42.060323  50.2  8.139677\n",
       "..        ...   ...       ...\n",
       "78  46.655282  53.0  6.344718\n",
       "79  45.172897  38.2  6.972897\n",
       "80  47.709884  46.7  1.009884\n",
       "81  29.949724  24.6  5.349724\n",
       "82  43.851120  36.2  7.651120\n",
       "\n",
       "[83 rows x 3 columns]"
      ]
     },
     "execution_count": 156,
     "metadata": {},
     "output_type": "execute_result"
    }
   ],
   "source": [
    "# Membandingkan 2 numpy array (kita gunakan np.column_stack untuk menggabungkan kedua array ini)\n",
    "banding_test = pd.DataFrame(np.column_stack((pred_test, pd.DataFrame(y_test), abs(pred_test - pd.DataFrame(y_test)))), columns=['Prediksi', 'Asli', 'Error'])\n",
    "banding_test"
   ]
  },
  {
   "cell_type": "code",
   "execution_count": 157,
   "id": "7c9837ac-7f6b-453d-a566-30210bb40dc4",
   "metadata": {
    "colab": {
     "base_uri": "https://localhost:8080/",
     "height": 300
    },
    "executionInfo": {
     "elapsed": 12,
     "status": "ok",
     "timestamp": 1667549811846,
     "user": {
      "displayName": "Mega Bagus Herlambang",
      "userId": "03891521875432168268"
     },
     "user_tz": -420
    },
    "id": "PWHUAKrc80ty",
    "outputId": "fd35dcbf-bb70-4b0d-c3a0-22dd8cdb8491"
   },
   "outputs": [
    {
     "data": {
      "text/html": [
       "<div>\n",
       "<style scoped>\n",
       "    .dataframe tbody tr th:only-of-type {\n",
       "        vertical-align: middle;\n",
       "    }\n",
       "\n",
       "    .dataframe tbody tr th {\n",
       "        vertical-align: top;\n",
       "    }\n",
       "\n",
       "    .dataframe thead th {\n",
       "        text-align: right;\n",
       "    }\n",
       "</style>\n",
       "<table border=\"1\" class=\"dataframe\">\n",
       "  <thead>\n",
       "    <tr style=\"text-align: right;\">\n",
       "      <th></th>\n",
       "      <th>Prediksi</th>\n",
       "      <th>Asli</th>\n",
       "      <th>Error</th>\n",
       "    </tr>\n",
       "  </thead>\n",
       "  <tbody>\n",
       "    <tr>\n",
       "      <th>count</th>\n",
       "      <td>83.000000</td>\n",
       "      <td>83.000000</td>\n",
       "      <td>83.000000</td>\n",
       "    </tr>\n",
       "    <tr>\n",
       "      <th>mean</th>\n",
       "      <td>38.343589</td>\n",
       "      <td>37.995181</td>\n",
       "      <td>5.776297</td>\n",
       "    </tr>\n",
       "    <tr>\n",
       "      <th>std</th>\n",
       "      <td>10.366487</td>\n",
       "      <td>13.259611</td>\n",
       "      <td>5.171941</td>\n",
       "    </tr>\n",
       "    <tr>\n",
       "      <th>min</th>\n",
       "      <td>7.260712</td>\n",
       "      <td>12.900000</td>\n",
       "      <td>0.027519</td>\n",
       "    </tr>\n",
       "    <tr>\n",
       "      <th>25%</th>\n",
       "      <td>33.869039</td>\n",
       "      <td>28.450000</td>\n",
       "      <td>1.990042</td>\n",
       "    </tr>\n",
       "    <tr>\n",
       "      <th>50%</th>\n",
       "      <td>40.974351</td>\n",
       "      <td>39.300000</td>\n",
       "      <td>4.425854</td>\n",
       "    </tr>\n",
       "    <tr>\n",
       "      <th>75%</th>\n",
       "      <td>45.464055</td>\n",
       "      <td>46.050000</td>\n",
       "      <td>7.939483</td>\n",
       "    </tr>\n",
       "    <tr>\n",
       "      <th>max</th>\n",
       "      <td>53.156216</td>\n",
       "      <td>78.300000</td>\n",
       "      <td>33.457761</td>\n",
       "    </tr>\n",
       "  </tbody>\n",
       "</table>\n",
       "</div>"
      ],
      "text/plain": [
       "        Prediksi       Asli      Error\n",
       "count  83.000000  83.000000  83.000000\n",
       "mean   38.343589  37.995181   5.776297\n",
       "std    10.366487  13.259611   5.171941\n",
       "min     7.260712  12.900000   0.027519\n",
       "25%    33.869039  28.450000   1.990042\n",
       "50%    40.974351  39.300000   4.425854\n",
       "75%    45.464055  46.050000   7.939483\n",
       "max    53.156216  78.300000  33.457761"
      ]
     },
     "execution_count": 157,
     "metadata": {},
     "output_type": "execute_result"
    }
   ],
   "source": [
    "# Menghitung nilai rata-rata dari error yang sudah dibuat absolut di test set (MAE = Mean absolute error)\n",
    "banding_test.describe()"
   ]
  },
  {
   "cell_type": "code",
   "execution_count": 158,
   "id": "a332a6d7-22bc-4af7-9d14-f75feb2aee4d",
   "metadata": {
    "tags": []
   },
   "outputs": [
    {
     "data": {
      "image/png": "[encoded data removed]",
      "text/plain": [
       "<Figure size 640x480 with 1 Axes>"
      ]
     },
     "metadata": {},
     "output_type": "display_data"
    }
   ],
   "source": [
    "# Visualisasi hasil Test Set\n",
    "plt.scatter(pred_test, y_test, color = 'red')\n",
    "plt.plot(pred_test, model_reg.predict(X_test), color = 'blue')\n",
    "plt.title('Prediksi vs Aktual (Test Set)')\n",
    "plt.xlabel('Prediksi')\n",
    "plt.ylabel('Aktual')\n",
    "plt.show()"
   ]
  },
  {
   "cell_type": "markdown",
   "id": "c5168704-87d3-4b1f-89d9-96bfaa8745aa",
   "metadata": {},
   "source": [
    "<br>"
   ]
  },
  {
   "cell_type": "markdown",
   "id": "5e449175-28be-4fae-b3e3-e4bf00d3c505",
   "metadata": {
    "id": "nOZa6TBA4iy9"
   },
   "source": [
    "### 2.4 Menghitung metrics di *test set*"
   ]
  },
  {
   "cell_type": "code",
   "execution_count": 161,
   "id": "9b5c47dd-909d-42cc-829b-ff8b3e3c17b3",
   "metadata": {
    "colab": {
     "base_uri": "https://localhost:8080/"
    },
    "executionInfo": {
     "elapsed": 8,
     "status": "ok",
     "timestamp": 1667550472294,
     "user": {
      "displayName": "Mega Bagus Herlambang",
      "userId": "03891521875432168268"
     },
     "user_tz": -420
    },
    "id": "EPnrLyWLVAxJ",
    "outputId": "80e910d3-d2d7-4bd3-c0cb-bbcb8bbd8dea"
   },
   "outputs": [
    {
     "name": "stdout",
     "output_type": "stream",
     "text": [
      "MAE = 5.78\n",
      "MSE = 59.79\n",
      "RMSE = 7.73\n",
      "R2 = 0.66\n"
     ]
    }
   ],
   "source": [
    "# Menghitung nilai error (MAE, MSE, RMSE) di Test Set\n",
    "print('MAE = {0:.2f}'.format(metrics.mean_absolute_error(y_test, pred_test)))           # MAE adalah nilai error rata-rata seperti yang ada di tabel banding_train\n",
    "print('MSE = {0:.2f}'.format(metrics.mean_squared_error(y_test, pred_test)))            # penulisan {0:.2f} adalah untuk menuliskan 2 angka di belakang koma\n",
    "print('RMSE = {0:.2f}'.format(np.sqrt(metrics.mean_squared_error(y_test, pred_test))))\n",
    "print('R2 = {0:.2f}'.format(metrics.r2_score(y_test, pred_test)))"
   ]
  },
  {
   "cell_type": "code",
   "execution_count": 162,
   "id": "698bcbb9-9dd4-4946-b8e5-3556ebf2a38b",
   "metadata": {
    "tags": []
   },
   "outputs": [
    {
     "name": "stdout",
     "output_type": "stream",
     "text": [
      "Coefficient of Determination (R2) = 0.66\n"
     ]
    }
   ],
   "source": [
    "# Cara lain menghitung R2\n",
    "R2 = model_reg.score(X_test, y_test)\n",
    "print('Coefficient of Determination (R2) = {0:.2f}'.format(R2))"
   ]
  },
  {
   "cell_type": "code",
   "execution_count": 163,
   "id": "69de1da0-633f-41ed-86fc-3e5621853c3b",
   "metadata": {},
   "outputs": [
    {
     "name": "stdout",
     "output_type": "stream",
     "text": [
      "Nilai R2 training set = 0.57\n",
      "Nilai R2 training set = 0.66\n"
     ]
    }
   ],
   "source": [
    "# Menghitung nilai R2 secara cepat\n",
    "print(f'Nilai R2 training set = {model_reg.score(X_train, y_train):.2f}')\n",
    "print(f'Nilai R2 training set = {model_reg.score(X_test, y_test):.2f}')"
   ]
  },
  {
   "cell_type": "markdown",
   "id": "7319737c-2436-488d-8fa4-609983ebed1a",
   "metadata": {},
   "source": [
    "<br>"
   ]
  },
  {
   "cell_type": "markdown",
   "id": "d0d980ec-c517-4c5b-b121-8c1d97f8093a",
   "metadata": {},
   "source": [
    "<hr>"
   ]
  },
  {
   "cell_type": "markdown",
   "id": "64abd873-b51f-4e4e-9237-c07290ac6fe1",
   "metadata": {},
   "source": [
    "## 3. *Cross Validation* di Python"
   ]
  },
  {
   "cell_type": "markdown",
   "id": "bf662be5-e6e4-44c7-9f57-f94fd120cd13",
   "metadata": {},
   "source": [
    "Kita akan menggunakan beberapa model regresi sekaligus.<br> \n",
    "Kemudian model terbaik dipilih menggunakan *k-fold cross validation*."
   ]
  },
  {
   "cell_type": "code",
   "execution_count": 168,
   "id": "8dc4ea30-6e30-4b2d-8e97-e9d9a869def4",
   "metadata": {},
   "outputs": [
    {
     "data": {
      "text/plain": [
       "((331, 7), (83, 7))"
      ]
     },
     "execution_count": 168,
     "metadata": {},
     "output_type": "execute_result"
    }
   ],
   "source": [
    "# Splitting data\n",
    "X_train, X_test, y_train, y_test = train_test_split(\n",
    "    df.drop([target], axis=1),\n",
    "    df[target],\n",
    "    test_size = 0.2,\n",
    "    random_state = 0)\n",
    "\n",
    "# Reset indeks dengan looping\n",
    "for i in [X_train, X_test, y_train, y_test]:\n",
    "    i.reset_index(drop=True, inplace=True)\n",
    "\n",
    "# Melihat dimensi training dan test set\n",
    "X_train.shape, X_test.shape"
   ]
  },
  {
   "cell_type": "code",
   "execution_count": 169,
   "id": "a02577ac-336f-4b34-ae30-f094894774a9",
   "metadata": {},
   "outputs": [],
   "source": [
    "# Membuat Pipeline untuk preprocessing\n",
    "preprocessor_numerik = Pipeline([\n",
    "    ('imputasi', SimpleImputer(strategy='median')),\n",
    "    ('scaling', MinMaxScaler())\n",
    "])\n",
    "\n",
    "preprocessor_kategori = Pipeline([\n",
    "    ('imputasi', SimpleImputer(strategy='constant', fill_value='missing')),\n",
    "    ('encoding', OneHotEncoder(sparse_output=False, drop='first', handle_unknown='ignore'))         \n",
    "])\n",
    "\n",
    "# Menggabungkan kedua pipeline di atas\n",
    "preprocessor = ColumnTransformer([\n",
    "    ('preprocessing numerik', preprocessor_numerik, var_numerik),\n",
    "    ('preprocessing kategori', preprocessor_kategori, var_kategori)\n",
    "])"
   ]
  },
  {
   "cell_type": "markdown",
   "id": "4a6d7f43-dfc8-4925-af29-e3d8feb43f69",
   "metadata": {},
   "source": [
    "Sekarang kita akan mendefinisikan beberapa model kemudian diikuti dengan *hyperparameter tuning*."
   ]
  },
  {
   "cell_type": "markdown",
   "id": "a6102f4a-01ef-45d4-aefa-91fb73331a15",
   "metadata": {},
   "source": [
    "<br>"
   ]
  },
  {
   "cell_type": "markdown",
   "id": "c3146229-bc81-48ca-92a1-96dc8d6f510d",
   "metadata": {},
   "source": [
    "### 3.1. Linear Regression"
   ]
  },
  {
   "cell_type": "markdown",
   "id": "1d48d031-05f5-48d9-99d6-079bc50f513d",
   "metadata": {},
   "source": [
    "Ini merupakan model regresi linear standar dari scikit-learn.\n",
    "\n",
    "Dokumentasi: https://scikit-learn.org/stable/modules/generated/sklearn.linear_model.LinearRegression.html"
   ]
  },
  {
   "cell_type": "code",
   "execution_count": 174,
   "id": "67ab0d82-d737-4c26-a49e-42d1df946c28",
   "metadata": {},
   "outputs": [],
   "source": [
    "# Model regresi Linear\n",
    "linreg = LinearRegression()\n",
    "\n",
    "# Pipeline model regresi linear\n",
    "mod_linreg = Pipeline([\n",
    "    ('preprocessing', preprocessor),\n",
    "    ('linreg', linreg)\n",
    "])\n",
    "\n",
    "# Hyperparameter tuning Linear Regression\n",
    "param_linreg = {}"
   ]
  },
  {
   "cell_type": "markdown",
   "id": "0088101b-519b-4889-a6b8-1672a708432d",
   "metadata": {},
   "source": [
    "<br>"
   ]
  },
  {
   "cell_type": "markdown",
   "id": "d6546027-97fe-4af5-a28e-03b7c6ad1e42",
   "metadata": {},
   "source": [
    "### 3.2. Lasso Regression"
   ]
  },
  {
   "cell_type": "markdown",
   "id": "967e0417-445f-4ee3-82c3-75e28ed3f7b3",
   "metadata": {},
   "source": [
    "*Lasso regression* merupakan regresi linear dengan penggunaan penalti L1.\n",
    "\n",
    "Dokumentasi: https://scikit-learn.org/stable/modules/generated/sklearn.linear_model.Lasso.html"
   ]
  },
  {
   "cell_type": "code",
   "execution_count": 178,
   "id": "7319e4ea-80b8-4374-9fe9-8120d3753761",
   "metadata": {},
   "outputs": [],
   "source": [
    "# Model regresi Lasso\n",
    "lasso = Lasso(alpha=0.001, random_state=0)\n",
    "\n",
    "# Pipeline model regresi lasso\n",
    "mod_lasso = Pipeline([\n",
    "    ('preprocessing', preprocessor),\n",
    "    ('lasso', lasso)\n",
    "])\n",
    "\n",
    "# Hyperparameter tuning regresi Lasso\n",
    "param_lasso = {'lasso__alpha': np.arange(0.01, 1.0, 0.01)}"
   ]
  },
  {
   "cell_type": "markdown",
   "id": "178ed87d-21bd-49f3-9de3-5eb7f06daa91",
   "metadata": {},
   "source": [
    "<br>"
   ]
  },
  {
   "cell_type": "markdown",
   "id": "a6739476-01e1-4323-b0a8-18642035ef61",
   "metadata": {},
   "source": [
    "### 3.3. Ridge Regression"
   ]
  },
  {
   "cell_type": "markdown",
   "id": "ba2b956d-2ec6-482f-b892-8306980cb18d",
   "metadata": {},
   "source": [
    "*Ridge regression* adalah regresi linear dengan penggunaan penalti L2.\n",
    "\n",
    "Dokumentasi: https://scikit-learn.org/stable/modules/generated/sklearn.linear_model.ridge_regression.html"
   ]
  },
  {
   "cell_type": "code",
   "execution_count": 182,
   "id": "9c2a15bd-4a02-4fa6-877e-bf822c9c2116",
   "metadata": {
    "tags": []
   },
   "outputs": [],
   "source": [
    "# Model regresi Ridge\n",
    "ridge = Ridge(alpha=0.5)\n",
    "\n",
    "# Pipeline model regresi Ridge\n",
    "mod_ridge = Pipeline([\n",
    "    ('preprocessing', preprocessor),\n",
    "    ('ridge', ridge)\n",
    "])\n",
    "\n",
    "# Hyperparameter tuning regresi Lasso\n",
    "param_ridge = {'ridge__alpha': np.arange(0.01, 1.0, 0.01),\n",
    "              'ridge__solver': ['auto','svd', 'lsqr']\n",
    "              }"
   ]
  },
  {
   "cell_type": "markdown",
   "id": "894a9e46-1c3f-4079-9923-7e984dcbdd3a",
   "metadata": {},
   "source": [
    "<br>"
   ]
  },
  {
   "cell_type": "markdown",
   "id": "617a8dff-65ab-4884-a3f8-8e4e64f4507a",
   "metadata": {},
   "source": [
    "### 3.4 Elastic Net"
   ]
  },
  {
   "cell_type": "markdown",
   "id": "adf6d783-90cb-4cc0-b871-4b6a130f31b0",
   "metadata": {},
   "source": [
    "*Elastic net* merupakan regresi linear dengan penalti L1 dan L2.\n",
    "\n",
    "Dokumentasi: https://scikit-learn.org/stable/modules/generated/sklearn.linear_model.ElasticNet.html#sklearn.linear_model.ElasticNet"
   ]
  },
  {
   "cell_type": "code",
   "execution_count": 186,
   "id": "9ad33756-031c-4cc2-8ea1-174cb9c241f5",
   "metadata": {},
   "outputs": [],
   "source": [
    "# Model regresi ElasticNet\n",
    "enet = ElasticNet(random_state=0)\n",
    "\n",
    "# Pipeline model regresi Elastic Net\n",
    "mod_enet = Pipeline([\n",
    "    ('preprocessing', preprocessor),\n",
    "    ('enet', enet)\n",
    "])\n",
    "\n",
    "# Hyperparameter tuning Elastic Net\n",
    "param_enet = {\n",
    "    'enet__alpha': [0.01, 0.1, 0.5],\n",
    "    'enet__l1_ratio': [0.01, 0.1, 0.5, 0.9, 1]\n",
    "    }"
   ]
  },
  {
   "cell_type": "markdown",
   "id": "e9278ab9-b30a-425a-8481-d981e4ed20c5",
   "metadata": {},
   "source": [
    "<br>"
   ]
  },
  {
   "cell_type": "markdown",
   "id": "3096f529-5f2f-4961-af02-ccc9ecb82872",
   "metadata": {},
   "source": [
    "### 3.5 Decision Tree Regressor"
   ]
  },
  {
   "cell_type": "markdown",
   "id": "c2751f9d-87c8-4559-b76c-aeedc72dce13",
   "metadata": {},
   "source": [
    "Algoritma *decision tree regressor* merupakan algoritma *decision tree* yang ditujukan untuk permasalahan regresi.\n",
    "\n",
    "Dokumentasi: https://scikit-learn.org/stable/modules/generated/sklearn.tree.DecisionTreeRegressor.html"
   ]
  },
  {
   "cell_type": "code",
   "execution_count": 190,
   "id": "fdd3dc87-9e37-426d-b1ad-3869d4534892",
   "metadata": {},
   "outputs": [],
   "source": [
    "# Model regresi Decision Tree\n",
    "dt = DecisionTreeRegressor(random_state=0)\n",
    "\n",
    "# Pipeline model regresi Decision Tree\n",
    "mod_dt = Pipeline([\n",
    "    ('preprocessing', preprocessor),\n",
    "    ('dt', dt)\n",
    "])\n",
    "\n",
    "# Hyperparameter tuning regresi Decision Tree\n",
    "param_dt = {\n",
    "    'dt__splitter': ['best','random'],\n",
    "    'dt__max_depth': np.arange(1,10), \n",
    "    'dt__min_samples_split': np.arange(2,10),\n",
    "    'dt__min_samples_leaf': np.arange(1,5)\n",
    "    }"
   ]
  },
  {
   "cell_type": "markdown",
   "id": "0b5af851-767c-4323-a0d9-e7cfe815c1f4",
   "metadata": {},
   "source": [
    "<br>"
   ]
  },
  {
   "cell_type": "markdown",
   "id": "7f1ac0ef-3d32-434d-b132-d27113633fbc",
   "metadata": {},
   "source": [
    "### 3.6. Random Forest Regressor"
   ]
  },
  {
   "cell_type": "markdown",
   "id": "be85e68f-d470-455c-8243-b9c0f80fd0b6",
   "metadata": {},
   "source": [
    "Algoritma *random forest* merupakan algoritma *random forest* (gabungan beberapa *decision tree*) yang digunakan untuk permasalahan regresi.<br>\n",
    "*Random forest* masuk ke dalam kategori *ensemble models* (model gabungan).\n",
    "\n",
    "Dokumentasi: https://scikit-learn.org/stable/modules/generated/sklearn.ensemble.RandomForestRegressor.html"
   ]
  },
  {
   "cell_type": "code",
   "execution_count": 194,
   "id": "d4486b30-858e-4b80-b163-6556a32cc339",
   "metadata": {},
   "outputs": [],
   "source": [
    "# Model regresi Random Forest\n",
    "rf = RandomForestRegressor(random_state=0)\n",
    "\n",
    "# Pipeline model regresi Random Forest\n",
    "mod_rf = Pipeline([\n",
    "    ('preprocessing', preprocessor),\n",
    "    ('rf', rf)\n",
    "])\n",
    "\n",
    "# Hyperparameter tuning regresi Random Forest\n",
    "param_rf = {\n",
    "    'rf__criterion': ['squared_error', 'absolute_error', 'friedman_mse', 'poisson'], \n",
    "    'rf__min_samples_split': np.arange(2,10),\n",
    "    'rf__min_samples_leaf': np.arange(1,5)\n",
    "    }"
   ]
  },
  {
   "cell_type": "markdown",
   "id": "508f6a5f-b153-4e98-a5a5-5fb39fb6e799",
   "metadata": {},
   "source": [
    "<br>"
   ]
  },
  {
   "cell_type": "markdown",
   "id": "2eb53deb-b87f-4ae8-accb-186753719ca7",
   "metadata": {},
   "source": [
    "### 3.7 K-Nearest Neighbor Regressor (KNN Regressor)"
   ]
  },
  {
   "cell_type": "markdown",
   "id": "ee8f8658-fd44-4a87-bb40-ba30a3fcf2b3",
   "metadata": {},
   "source": [
    "Regresi berdasarkan algoritma KNN.\n",
    "\n",
    "Dokumentasi: https://scikit-learn.org/stable/modules/generated/sklearn.neighbors.KNeighborsRegressor.html"
   ]
  },
  {
   "cell_type": "code",
   "execution_count": 198,
   "id": "ee7dad9d-a1c6-4228-9bb9-45ab8c94bbef",
   "metadata": {},
   "outputs": [],
   "source": [
    "# Model regresi KNN\n",
    "knn = KNeighborsRegressor(n_neighbors=5)\n",
    "\n",
    "# Pipeline model regresi Random Forest\n",
    "mod_knn = Pipeline([\n",
    "    ('preprocessing', preprocessor),\n",
    "    ('knn', knn)\n",
    "])\n",
    "\n",
    "# Hyperparameter tuning regresi Random Forest\n",
    "param_knn = {\n",
    "    'knn__n_neighbors': [1, 2, 3, 4, 5],\n",
    "    'knn__weights': ['uniform', 'distance'],\n",
    "    'knn__algorithm': ['auto', 'ball_tree', 'kd_tree', 'brute']\n",
    "    }"
   ]
  },
  {
   "cell_type": "markdown",
   "id": "af4ab26a-1b30-4a87-83fe-8a8d5e7c1c5b",
   "metadata": {},
   "source": [
    "<br>"
   ]
  },
  {
   "cell_type": "markdown",
   "id": "ae367605-161e-4b6e-b8ab-e37fc1411f83",
   "metadata": {},
   "source": [
    "### 3.8. Support Vector Regressor"
   ]
  },
  {
   "cell_type": "markdown",
   "id": "e4748114-9575-4164-b722-9a5d8a9ec3e1",
   "metadata": {},
   "source": [
    "*Support Vector Regressor* merupakan model regresi dengan menggunakan algoritma SVM (*Support Vector Machine*)."
   ]
  },
  {
   "cell_type": "markdown",
   "id": "6735ab01-7697-49c0-b67d-a0aa9decf980",
   "metadata": {},
   "source": [
    "Dokumentasi: https://scikit-learn.org/stable/modules/generated/sklearn.svm.SVR.html"
   ]
  },
  {
   "cell_type": "code",
   "execution_count": 203,
   "id": "8afba984-2eb0-4f6c-84df-7901fca0bb81",
   "metadata": {},
   "outputs": [],
   "source": [
    "# Model regresi SVR\n",
    "svr = svm.SVR(C=1.0, epsilon=0.2)\n",
    "\n",
    "# Pipeline model regresi SVR\n",
    "mod_svr = Pipeline([\n",
    "    ('preprocessing', preprocessor),\n",
    "    ('svr', svr)\n",
    "    ])\n",
    "\n",
    "# Hyperparameter tuning SVR\n",
    "param_svr = {\n",
    "    'svr__kernel':['linear', 'poly', 'rbf', 'sigmoid'], \n",
    "    'svr__degree':[3,5,7], \n",
    "    'svr__gamma':['scale', 'auto'], \n",
    "    'svr__C':[1,2,3],\n",
    "    'svr__epsilon':[0.1, 0.2, 0.3] \n",
    "    }"
   ]
  },
  {
   "cell_type": "markdown",
   "id": "6d69680f-891a-4cad-9420-8b752ba472f5",
   "metadata": {},
   "source": [
    "<br>"
   ]
  },
  {
   "cell_type": "markdown",
   "id": "17f91a30-d90b-488c-a961-dd47b3b18f3b",
   "metadata": {},
   "source": [
    "### 3.9. Gradient Boosting"
   ]
  },
  {
   "cell_type": "markdown",
   "id": "453854a7-a0fe-45b9-9752-603fc10b16ed",
   "metadata": {},
   "source": [
    "Algoritma *gradient boosting* termasuk ke dalam *ensemble models*.\n",
    "\n",
    "Dokumentasi: https://scikit-learn.org/stable/modules/generated/sklearn.ensemble.GradientBoostingRegressor.html"
   ]
  },
  {
   "cell_type": "code",
   "execution_count": 207,
   "id": "d18ba9c6-c707-4388-884c-a36351daddfe",
   "metadata": {},
   "outputs": [],
   "source": [
    "# Model regresi Gradient Boosting\n",
    "gb = GradientBoostingRegressor(loss='huber',criterion='squared_error',random_state=0)\n",
    "\n",
    "# Pipeline model regresi Gradient Boosting\n",
    "mod_gb = Pipeline([\n",
    "    ('preprocessing', preprocessor),\n",
    "    ('gb', gb)\n",
    "    ])\n",
    "\n",
    "# Hyperparameter tuning Gradient Boosting\n",
    "param_gb = {\n",
    "    'gb__n_estimators':[200, 250, 350, 400], #default 100\n",
    "    'gb__learning_rate':[0.75, 0.1, 1.25], #default 0.1\n",
    "    'gb__max_depth':[2], #default 3\n",
    "    'gb__min_samples_split':[5, 6, 7, 8], #default 2\n",
    "    'gb__min_samples_leaf':[1, 2, 3] # default 1\n",
    "    }"
   ]
  },
  {
   "cell_type": "markdown",
   "id": "8f0beb7a-a2b3-4c06-8272-588aec0ef338",
   "metadata": {},
   "source": [
    "<br>"
   ]
  },
  {
   "cell_type": "markdown",
   "id": "6e0eba74-8f75-4fea-b5a1-ab12559ea7d9",
   "metadata": {},
   "source": [
    "### 3.10 XGBoost"
   ]
  },
  {
   "cell_type": "markdown",
   "id": "c7a865a4-78b9-4773-9efa-b93fc86f424b",
   "metadata": {},
   "source": [
    "XGBoost adalah model *gradient boosting* yang dioptimasi sehingga prosesnya relatif lebih cepat dan lebih efisien.\n",
    "\n",
    "Dokuentasi: https://xgboost.readthedocs.io/en/stable/python/python_api.html"
   ]
  },
  {
   "cell_type": "code",
   "execution_count": 211,
   "id": "3961371d-efe5-46e4-b2be-d5ddd072f496",
   "metadata": {},
   "outputs": [],
   "source": [
    "# Model regresi XGBoost\n",
    "xgb = XGBRegressor()\n",
    "\n",
    "# Pipeline model regresi XGBoost\n",
    "mod_xgb = Pipeline([\n",
    "    ('preprocessing', preprocessor),\n",
    "    ('xgb',xgb)\n",
    "    ])\n",
    "\n",
    "# Hyperparameter tuning regresi XGBoost\n",
    "param_xgb = {\n",
    "    'xgb__learning_rate':[0.01, 0.05, 0.1],\n",
    "    'xgb__n_estimators':[200, 300, 400]\n",
    "    }"
   ]
  },
  {
   "cell_type": "markdown",
   "id": "062d2568-b077-4c8c-b42f-fc8483325d04",
   "metadata": {},
   "source": [
    "<br>"
   ]
  },
  {
   "cell_type": "markdown",
   "id": "c67544a3-e972-4b32-b200-f8e65fe79076",
   "metadata": {},
   "source": [
    "### 3.11 LightGBM Regressor"
   ]
  },
  {
   "cell_type": "markdown",
   "id": "969fb94a-b467-4cec-bbb9-cf85008e1319",
   "metadata": {},
   "source": [
    "LightGBM regressor adalah *gradient boosting* yang dikembangkan oleh Microsoft.\n",
    "\n",
    "Dokumentasi: https://lightgbm.readthedocs.io/en/latest/pythonapi/lightgbm.LGBMRegressor.html"
   ]
  },
  {
   "cell_type": "code",
   "execution_count": 215,
   "id": "dd146411-853a-4cfd-8413-713b05d31624",
   "metadata": {},
   "outputs": [],
   "source": [
    "# Model regresi LightGBM\n",
    "lgb = LGBMRegressor(force_col_wise=True, \n",
    "                    verbose = -1,\n",
    "                    random_state=0)\n",
    "\n",
    "# Pipeline model regresi LightGBM\n",
    "mod_lgb = Pipeline([\n",
    "    ('preprocessing', preprocessor),\n",
    "    ('lgb', lgb)   \n",
    "    ])\n",
    "\n",
    "# Hyperparameter tuning regresi LightGBM\n",
    "param_lgb = {\n",
    "    'lgb__learning_rate':[0.01, 0.05, 0.1, 0.2],\n",
    "    'lgb__n_estimators':[200, 300, 400]\n",
    "    }"
   ]
  },
  {
   "cell_type": "markdown",
   "id": "07ceca5a-a750-458a-9460-be9d811873bd",
   "metadata": {},
   "source": [
    "<br>"
   ]
  },
  {
   "cell_type": "markdown",
   "id": "6506f7a5-606a-4972-90bd-f1e9138b661a",
   "metadata": {},
   "source": [
    "### 3.12 Multi Layer Perceptron (MLP)"
   ]
  },
  {
   "cell_type": "markdown",
   "id": "2bcdde46-3723-4902-b906-b6a05bd0d73e",
   "metadata": {},
   "source": [
    "MLP merupakan model regresi dengan menggunakan arsitektur *neural network*.<br>\n",
    "Untuk *neural network* kali ini kita menggunakan library scikit-learn."
   ]
  },
  {
   "cell_type": "markdown",
   "id": "2d917a19-698c-41cf-8d4b-d181ce81cfb5",
   "metadata": {},
   "source": [
    "Dokumentasi: https://scikit-learn.org/stable/modules/generated/sklearn.neural_network.MLPRegressor.html"
   ]
  },
  {
   "cell_type": "code",
   "execution_count": 220,
   "id": "620bc98e-8184-4cfb-89b0-51b9e5b11fbc",
   "metadata": {},
   "outputs": [],
   "source": [
    "# Model regresi MLP\n",
    "mlp = MLPRegressor(random_state=0, max_iter=5000)\n",
    "\n",
    "# Pipeline model regresi MLP\n",
    "mod_mlp = Pipeline([\n",
    "    ('preprocessing', preprocessor),\n",
    "    ('mlp', mlp)   \n",
    "    ])\n",
    "\n",
    "# Hyperparameter tuning regresi MLP\n",
    "param_mlp = {\n",
    "    'mlp__hidden_layer_sizes': [(100,),(200,),(300,)],\n",
    "    'mlp__activation':['identity', 'logistic', 'tanh', 'relu'],\n",
    "    'mlp__solver':['sgd', 'adam']\n",
    "    }"
   ]
  },
  {
   "cell_type": "markdown",
   "id": "6be10225-fdc1-4e3b-aea1-9fd3449b706c",
   "metadata": {},
   "source": [
    "<br>"
   ]
  },
  {
   "cell_type": "markdown",
   "id": "019db1ca-ba55-4240-a7d4-bdf56d9b8396",
   "metadata": {},
   "source": [
    "Sekarang kita akan mentraining semua model di atas dan mengevaluasinya langsung menggunakan *10-fold cross validation*.\n",
    "\n",
    "Perlu diperhatikan bahwa kita belum mengimplementasikan *hyperparameter tuning*."
   ]
  },
  {
   "cell_type": "markdown",
   "id": "d0b3df7f-5a0a-4386-bbcf-a78ae008a24d",
   "metadata": {},
   "source": [
    "Dokumentasi tipe *scoring* yang bisa dipakai di *cross validation* dapat dilihat melalui link berikut:<br>\n",
    "https://scikit-learn.org/stable/modules/model_evaluation.html"
   ]
  },
  {
   "cell_type": "code",
   "execution_count": 224,
   "id": "2a5187f0-2e2f-44d8-8c2c-6bbbef491a5a",
   "metadata": {},
   "outputs": [
    {
     "name": "stderr",
     "output_type": "stream",
     "text": [
      "[Parallel(n_jobs=-1)]: Using backend LokyBackend with 8 concurrent workers.\n",
      "[Parallel(n_jobs=-1)]: Done   6 out of  10 | elapsed:    5.0s remaining:    3.3s\n",
      "[Parallel(n_jobs=-1)]: Done  10 out of  10 | elapsed:    5.1s finished\n",
      "[Parallel(n_jobs=-1)]: Using backend LokyBackend with 8 concurrent workers.\n",
      "[Parallel(n_jobs=-1)]: Done   6 out of  10 | elapsed:    0.0s remaining:    0.0s\n",
      "[Parallel(n_jobs=-1)]: Done  10 out of  10 | elapsed:    0.0s finished\n",
      "[Parallel(n_jobs=-1)]: Using backend LokyBackend with 8 concurrent workers.\n",
      "[Parallel(n_jobs=-1)]: Done   6 out of  10 | elapsed:    0.0s remaining:    0.0s\n",
      "[Parallel(n_jobs=-1)]: Done  10 out of  10 | elapsed:    0.0s finished\n",
      "[Parallel(n_jobs=-1)]: Using backend LokyBackend with 8 concurrent workers.\n",
      "[Parallel(n_jobs=-1)]: Done   6 out of  10 | elapsed:    0.0s remaining:    0.0s\n",
      "[Parallel(n_jobs=-1)]: Done  10 out of  10 | elapsed:    0.0s finished\n",
      "[Parallel(n_jobs=-1)]: Using backend LokyBackend with 8 concurrent workers.\n",
      "[Parallel(n_jobs=-1)]: Done   6 out of  10 | elapsed:    0.0s remaining:    0.0s\n",
      "[Parallel(n_jobs=-1)]: Done  10 out of  10 | elapsed:    0.0s finished\n",
      "[Parallel(n_jobs=-1)]: Using backend LokyBackend with 8 concurrent workers.\n",
      "[Parallel(n_jobs=-1)]: Done   6 out of  10 | elapsed:    0.0s remaining:    0.0s\n",
      "[Parallel(n_jobs=-1)]: Done  10 out of  10 | elapsed:    0.0s finished\n",
      "[Parallel(n_jobs=-1)]: Using backend LokyBackend with 8 concurrent workers.\n",
      "[Parallel(n_jobs=-1)]: Done   6 out of  10 | elapsed:    0.0s remaining:    0.0s\n",
      "[Parallel(n_jobs=-1)]: Done  10 out of  10 | elapsed:    0.0s finished\n",
      "[Parallel(n_jobs=-1)]: Using backend LokyBackend with 8 concurrent workers.\n",
      "[Parallel(n_jobs=-1)]: Done   6 out of  10 | elapsed:    0.0s remaining:    0.0s\n",
      "[Parallel(n_jobs=-1)]: Done  10 out of  10 | elapsed:    0.0s finished\n",
      "[Parallel(n_jobs=-1)]: Using backend LokyBackend with 8 concurrent workers.\n",
      "[Parallel(n_jobs=-1)]: Done   6 out of  10 | elapsed:    0.0s remaining:    0.0s\n",
      "[Parallel(n_jobs=-1)]: Done  10 out of  10 | elapsed:    0.0s finished\n",
      "[Parallel(n_jobs=-1)]: Using backend LokyBackend with 8 concurrent workers.\n",
      "[Parallel(n_jobs=-1)]: Done   6 out of  10 | elapsed:    0.0s remaining:    0.0s\n",
      "[Parallel(n_jobs=-1)]: Done  10 out of  10 | elapsed:    0.0s finished\n",
      "[Parallel(n_jobs=-1)]: Using backend LokyBackend with 8 concurrent workers.\n",
      "[Parallel(n_jobs=-1)]: Done   6 out of  10 | elapsed:    0.9s remaining:    0.6s\n",
      "[Parallel(n_jobs=-1)]: Done  10 out of  10 | elapsed:    1.4s finished\n",
      "[Parallel(n_jobs=-1)]: Using backend LokyBackend with 8 concurrent workers.\n",
      "[Parallel(n_jobs=-1)]: Done   6 out of  10 | elapsed:    0.8s remaining:    0.5s\n",
      "[Parallel(n_jobs=-1)]: Done  10 out of  10 | elapsed:    1.4s finished\n",
      "[Parallel(n_jobs=-1)]: Using backend LokyBackend with 8 concurrent workers.\n",
      "[Parallel(n_jobs=-1)]: Done   6 out of  10 | elapsed:    0.0s remaining:    0.0s\n",
      "[Parallel(n_jobs=-1)]: Done  10 out of  10 | elapsed:    0.0s finished\n",
      "[Parallel(n_jobs=-1)]: Using backend LokyBackend with 8 concurrent workers.\n",
      "[Parallel(n_jobs=-1)]: Done   6 out of  10 | elapsed:    0.0s remaining:    0.0s\n",
      "[Parallel(n_jobs=-1)]: Done  10 out of  10 | elapsed:    0.0s finished\n",
      "[Parallel(n_jobs=-1)]: Using backend LokyBackend with 8 concurrent workers.\n",
      "[Parallel(n_jobs=-1)]: Done   6 out of  10 | elapsed:    0.0s remaining:    0.0s\n",
      "[Parallel(n_jobs=-1)]: Done  10 out of  10 | elapsed:    0.0s finished\n",
      "[Parallel(n_jobs=-1)]: Using backend LokyBackend with 8 concurrent workers.\n",
      "[Parallel(n_jobs=-1)]: Done   6 out of  10 | elapsed:    0.0s remaining:    0.0s\n",
      "[Parallel(n_jobs=-1)]: Done  10 out of  10 | elapsed:    0.0s finished\n",
      "[Parallel(n_jobs=-1)]: Using backend LokyBackend with 8 concurrent workers.\n",
      "[Parallel(n_jobs=-1)]: Done   6 out of  10 | elapsed:    0.7s remaining:    0.4s\n",
      "[Parallel(n_jobs=-1)]: Done  10 out of  10 | elapsed:    1.2s finished\n",
      "[Parallel(n_jobs=-1)]: Using backend LokyBackend with 8 concurrent workers.\n",
      "[Parallel(n_jobs=-1)]: Done   6 out of  10 | elapsed:    0.7s remaining:    0.4s\n",
      "[Parallel(n_jobs=-1)]: Done  10 out of  10 | elapsed:    1.2s finished\n",
      "[Parallel(n_jobs=-1)]: Using backend LokyBackend with 8 concurrent workers.\n",
      "[Parallel(n_jobs=-1)]: Done   6 out of  10 | elapsed:    0.3s remaining:    0.1s\n",
      "[Parallel(n_jobs=-1)]: Done  10 out of  10 | elapsed:    0.4s finished\n",
      "[Parallel(n_jobs=-1)]: Using backend LokyBackend with 8 concurrent workers.\n",
      "[Parallel(n_jobs=-1)]: Done   6 out of  10 | elapsed:    0.2s remaining:    0.1s\n",
      "[Parallel(n_jobs=-1)]: Done  10 out of  10 | elapsed:    0.2s finished\n",
      "[Parallel(n_jobs=-1)]: Using backend LokyBackend with 8 concurrent workers.\n",
      "[Parallel(n_jobs=-1)]: Done   6 out of  10 | elapsed:    4.2s remaining:    2.8s\n",
      "[Parallel(n_jobs=-1)]: Done  10 out of  10 | elapsed:    4.3s finished\n",
      "[Parallel(n_jobs=-1)]: Using backend LokyBackend with 8 concurrent workers.\n",
      "[Parallel(n_jobs=-1)]: Done   6 out of  10 | elapsed:    0.1s remaining:    0.0s\n",
      "[Parallel(n_jobs=-1)]: Done  10 out of  10 | elapsed:    0.1s finished\n",
      "[Parallel(n_jobs=-1)]: Using backend LokyBackend with 8 concurrent workers.\n",
      "[Parallel(n_jobs=-1)]: Done   6 out of  10 | elapsed:    8.5s remaining:    5.6s\n",
      "[Parallel(n_jobs=-1)]: Done  10 out of  10 | elapsed:   13.1s finished\n",
      "[Parallel(n_jobs=-1)]: Using backend LokyBackend with 8 concurrent workers.\n",
      "[Parallel(n_jobs=-1)]: Done   6 out of  10 | elapsed:    8.7s remaining:    5.8s\n",
      "[Parallel(n_jobs=-1)]: Done  10 out of  10 | elapsed:   13.3s finished\n"
     ]
    }
   ],
   "source": [
    "# Model training dengan cross validation\n",
    "daftar_model = [mod_linreg, mod_lasso, mod_ridge, mod_enet, mod_dt, mod_rf, mod_knn, mod_svr, mod_gb, mod_xgb, mod_lgb, mod_mlp]\n",
    "daftar_nama_model = ['linreg', 'lasso', 'ridge', 'elastic', 'dt', 'rf', 'knn', 'svr', 'gb', 'xgb', 'lgb', 'mlp']\n",
    "mean_mae = []\n",
    "mean_r2 = []\n",
    "std_mae = []\n",
    "std_r2 = []\n",
    "test_score_mae = []\n",
    "test_score_r2 = []\n",
    "\n",
    "# Setting parameter jika permasalahannya adalah klasifikasi\n",
    "# skf = StratifiedKFold(n_splits=10, random_state=0, shuffle=True)\n",
    "# tentukan cv = skf jika ingin stratified cross validation\n",
    "\n",
    "# Looping untuk setiap model yang sudah disiapkan \n",
    "for i in daftar_model:\n",
    "    \n",
    "    # Melakukan cross validation dan menggunakan kriteria berdasarkan skor MAE dan R2\n",
    "    cv_mae = -cross_val_score(i, X_train, y_train, cv=10, scoring='neg_mean_absolute_error', verbose=1, n_jobs=-1)  # kita kalikan dengan -1 karena scoring menggunakan nilai negatif\n",
    "    cv_r2 = cross_val_score(i, X_train, y_train, cv=10, scoring='r2', verbose=1, n_jobs=-1) # n_jobs=-1 artinya kita gunakan semua prerocessor\n",
    "    \n",
    "    # Menghitung nilai rata-rata MAE dan R2 dan menambahkannya ke variabel mean_mae dan mean_r2\n",
    "    mean_mae.append(round(cv_mae.mean(),2))   # round(nilai,2) untuk membulatkan nilai 2 angka di belakang koma\n",
    "    mean_r2.append(round(cv_r2.mean(),2))\n",
    "    \n",
    "    # Menghitung nilai standar deviasi MAE dan R2 dan menambahkannya ke variabel std_mae dan std_r2\n",
    "    std_mae.append(round(cv_mae.std(),2))\n",
    "    std_r2.append(round(cv_r2.std(),2))\n",
    "    \n",
    "    # Melakukan fitting training set kemudian melakukan prediksi  di test set\n",
    "    i.fit(X_train, y_train)\n",
    "    i_predict = i.predict(X_test)\n",
    "    \n",
    "    # Menghitung nilai rata-rata MAE dan R2 di test set dan menambahkannya ke variabel test_score_mae dan test_core_r2\n",
    "    test_score_mae.append(round(mean_absolute_error(y_test, i_predict),2))\n",
    "    test_score_r2.append(round(r2_score(y_test, i_predict),2))"
   ]
  },
  {
   "cell_type": "code",
   "execution_count": 225,
   "id": "68632c0d-c5d5-4bb4-ba75-ecb0d1291a3c",
   "metadata": {},
   "outputs": [],
   "source": [
    "# Membuat DataFrame\n",
    "cv_mae = pd.DataFrame({'model':daftar_nama_model, 'Train_Mean':mean_mae, 'std':std_mae, 'Test_Score':test_score_mae})\n",
    "cv_r2 = pd.DataFrame({'model':daftar_nama_model, 'Train_Mean':mean_r2, 'std':std_r2, 'Test_Score':test_score_r2})"
   ]
  },
  {
   "cell_type": "code",
   "execution_count": 226,
   "id": "ca44f1c6-8fbb-4425-91f8-51250ca82576",
   "metadata": {},
   "outputs": [
    {
     "data": {
      "text/html": [
       "<div>\n",
       "<style scoped>\n",
       "    .dataframe tbody tr th:only-of-type {\n",
       "        vertical-align: middle;\n",
       "    }\n",
       "\n",
       "    .dataframe tbody tr th {\n",
       "        vertical-align: top;\n",
       "    }\n",
       "\n",
       "    .dataframe thead th {\n",
       "        text-align: right;\n",
       "    }\n",
       "</style>\n",
       "<table border=\"1\" class=\"dataframe\">\n",
       "  <thead>\n",
       "    <tr style=\"text-align: right;\">\n",
       "      <th></th>\n",
       "      <th>model</th>\n",
       "      <th>Train_Mean</th>\n",
       "      <th>std</th>\n",
       "      <th>Test_Score</th>\n",
       "    </tr>\n",
       "  </thead>\n",
       "  <tbody>\n",
       "    <tr>\n",
       "      <th>0</th>\n",
       "      <td>linreg</td>\n",
       "      <td>6.37</td>\n",
       "      <td>0.83</td>\n",
       "      <td>5.78</td>\n",
       "    </tr>\n",
       "    <tr>\n",
       "      <th>1</th>\n",
       "      <td>lasso</td>\n",
       "      <td>6.37</td>\n",
       "      <td>0.83</td>\n",
       "      <td>5.78</td>\n",
       "    </tr>\n",
       "    <tr>\n",
       "      <th>2</th>\n",
       "      <td>ridge</td>\n",
       "      <td>6.38</td>\n",
       "      <td>0.83</td>\n",
       "      <td>5.77</td>\n",
       "    </tr>\n",
       "    <tr>\n",
       "      <th>3</th>\n",
       "      <td>elastic</td>\n",
       "      <td>9.92</td>\n",
       "      <td>1.03</td>\n",
       "      <td>9.87</td>\n",
       "    </tr>\n",
       "    <tr>\n",
       "      <th>4</th>\n",
       "      <td>dt</td>\n",
       "      <td>6.33</td>\n",
       "      <td>1.32</td>\n",
       "      <td>6.95</td>\n",
       "    </tr>\n",
       "    <tr>\n",
       "      <th>5</th>\n",
       "      <td>rf</td>\n",
       "      <td>4.96</td>\n",
       "      <td>0.76</td>\n",
       "      <td>4.89</td>\n",
       "    </tr>\n",
       "    <tr>\n",
       "      <th>6</th>\n",
       "      <td>knn</td>\n",
       "      <td>6.29</td>\n",
       "      <td>1.05</td>\n",
       "      <td>5.79</td>\n",
       "    </tr>\n",
       "    <tr>\n",
       "      <th>7</th>\n",
       "      <td>svr</td>\n",
       "      <td>6.27</td>\n",
       "      <td>0.78</td>\n",
       "      <td>6.59</td>\n",
       "    </tr>\n",
       "    <tr>\n",
       "      <th>8</th>\n",
       "      <td>gb</td>\n",
       "      <td>4.84</td>\n",
       "      <td>0.43</td>\n",
       "      <td>4.38</td>\n",
       "    </tr>\n",
       "    <tr>\n",
       "      <th>9</th>\n",
       "      <td>xgb</td>\n",
       "      <td>5.51</td>\n",
       "      <td>0.64</td>\n",
       "      <td>5.16</td>\n",
       "    </tr>\n",
       "    <tr>\n",
       "      <th>10</th>\n",
       "      <td>lgb</td>\n",
       "      <td>5.25</td>\n",
       "      <td>0.64</td>\n",
       "      <td>4.86</td>\n",
       "    </tr>\n",
       "    <tr>\n",
       "      <th>11</th>\n",
       "      <td>mlp</td>\n",
       "      <td>5.21</td>\n",
       "      <td>0.81</td>\n",
       "      <td>4.95</td>\n",
       "    </tr>\n",
       "  </tbody>\n",
       "</table>\n",
       "</div>"
      ],
      "text/plain": [
       "      model  Train_Mean   std  Test_Score\n",
       "0    linreg        6.37  0.83        5.78\n",
       "1     lasso        6.37  0.83        5.78\n",
       "2     ridge        6.38  0.83        5.77\n",
       "3   elastic        9.92  1.03        9.87\n",
       "4        dt        6.33  1.32        6.95\n",
       "5        rf        4.96  0.76        4.89\n",
       "6       knn        6.29  1.05        5.79\n",
       "7       svr        6.27  0.78        6.59\n",
       "8        gb        4.84  0.43        4.38\n",
       "9       xgb        5.51  0.64        5.16\n",
       "10      lgb        5.25  0.64        4.86\n",
       "11      mlp        5.21  0.81        4.95"
      ]
     },
     "execution_count": 226,
     "metadata": {},
     "output_type": "execute_result"
    }
   ],
   "source": [
    "# Melihat hasil cross validation berdasarkan MAE\n",
    "cv_mae"
   ]
  },
  {
   "cell_type": "code",
   "execution_count": 227,
   "id": "ccd61bf6-8088-4a5c-a1c6-1901806c584d",
   "metadata": {},
   "outputs": [
    {
     "data": {
      "text/html": [
       "<div>\n",
       "<style scoped>\n",
       "    .dataframe tbody tr th:only-of-type {\n",
       "        vertical-align: middle;\n",
       "    }\n",
       "\n",
       "    .dataframe tbody tr th {\n",
       "        vertical-align: top;\n",
       "    }\n",
       "\n",
       "    .dataframe thead th {\n",
       "        text-align: right;\n",
       "    }\n",
       "</style>\n",
       "<table border=\"1\" class=\"dataframe\">\n",
       "  <thead>\n",
       "    <tr style=\"text-align: right;\">\n",
       "      <th></th>\n",
       "      <th>model</th>\n",
       "      <th>Train_Mean</th>\n",
       "      <th>std</th>\n",
       "      <th>Test_Score</th>\n",
       "    </tr>\n",
       "  </thead>\n",
       "  <tbody>\n",
       "    <tr>\n",
       "      <th>0</th>\n",
       "      <td>gb</td>\n",
       "      <td>4.84</td>\n",
       "      <td>0.43</td>\n",
       "      <td>4.38</td>\n",
       "    </tr>\n",
       "    <tr>\n",
       "      <th>1</th>\n",
       "      <td>rf</td>\n",
       "      <td>4.96</td>\n",
       "      <td>0.76</td>\n",
       "      <td>4.89</td>\n",
       "    </tr>\n",
       "    <tr>\n",
       "      <th>2</th>\n",
       "      <td>mlp</td>\n",
       "      <td>5.21</td>\n",
       "      <td>0.81</td>\n",
       "      <td>4.95</td>\n",
       "    </tr>\n",
       "    <tr>\n",
       "      <th>3</th>\n",
       "      <td>lgb</td>\n",
       "      <td>5.25</td>\n",
       "      <td>0.64</td>\n",
       "      <td>4.86</td>\n",
       "    </tr>\n",
       "    <tr>\n",
       "      <th>4</th>\n",
       "      <td>xgb</td>\n",
       "      <td>5.51</td>\n",
       "      <td>0.64</td>\n",
       "      <td>5.16</td>\n",
       "    </tr>\n",
       "    <tr>\n",
       "      <th>5</th>\n",
       "      <td>svr</td>\n",
       "      <td>6.27</td>\n",
       "      <td>0.78</td>\n",
       "      <td>6.59</td>\n",
       "    </tr>\n",
       "    <tr>\n",
       "      <th>6</th>\n",
       "      <td>knn</td>\n",
       "      <td>6.29</td>\n",
       "      <td>1.05</td>\n",
       "      <td>5.79</td>\n",
       "    </tr>\n",
       "    <tr>\n",
       "      <th>7</th>\n",
       "      <td>dt</td>\n",
       "      <td>6.33</td>\n",
       "      <td>1.32</td>\n",
       "      <td>6.95</td>\n",
       "    </tr>\n",
       "    <tr>\n",
       "      <th>8</th>\n",
       "      <td>linreg</td>\n",
       "      <td>6.37</td>\n",
       "      <td>0.83</td>\n",
       "      <td>5.78</td>\n",
       "    </tr>\n",
       "    <tr>\n",
       "      <th>9</th>\n",
       "      <td>lasso</td>\n",
       "      <td>6.37</td>\n",
       "      <td>0.83</td>\n",
       "      <td>5.78</td>\n",
       "    </tr>\n",
       "    <tr>\n",
       "      <th>10</th>\n",
       "      <td>ridge</td>\n",
       "      <td>6.38</td>\n",
       "      <td>0.83</td>\n",
       "      <td>5.77</td>\n",
       "    </tr>\n",
       "    <tr>\n",
       "      <th>11</th>\n",
       "      <td>elastic</td>\n",
       "      <td>9.92</td>\n",
       "      <td>1.03</td>\n",
       "      <td>9.87</td>\n",
       "    </tr>\n",
       "  </tbody>\n",
       "</table>\n",
       "</div>"
      ],
      "text/plain": [
       "      model  Train_Mean   std  Test_Score\n",
       "0        gb        4.84  0.43        4.38\n",
       "1        rf        4.96  0.76        4.89\n",
       "2       mlp        5.21  0.81        4.95\n",
       "3       lgb        5.25  0.64        4.86\n",
       "4       xgb        5.51  0.64        5.16\n",
       "5       svr        6.27  0.78        6.59\n",
       "6       knn        6.29  1.05        5.79\n",
       "7        dt        6.33  1.32        6.95\n",
       "8    linreg        6.37  0.83        5.78\n",
       "9     lasso        6.37  0.83        5.78\n",
       "10    ridge        6.38  0.83        5.77\n",
       "11  elastic        9.92  1.03        9.87"
      ]
     },
     "execution_count": 227,
     "metadata": {},
     "output_type": "execute_result"
    }
   ],
   "source": [
    "# Mengurutkan skor dari kecil ke besar\n",
    "cv_mae_urut = cv_mae.sort_values(by=['Train_Mean','Test_Score'],  ignore_index=True)\n",
    "cv_mae_urut"
   ]
  },
  {
   "cell_type": "code",
   "execution_count": 228,
   "id": "05f439d8-19dc-47ae-ac8f-45115fcff9fb",
   "metadata": {},
   "outputs": [
    {
     "data": {
      "text/html": [
       "<div>\n",
       "<style scoped>\n",
       "    .dataframe tbody tr th:only-of-type {\n",
       "        vertical-align: middle;\n",
       "    }\n",
       "\n",
       "    .dataframe tbody tr th {\n",
       "        vertical-align: top;\n",
       "    }\n",
       "\n",
       "    .dataframe thead th {\n",
       "        text-align: right;\n",
       "    }\n",
       "</style>\n",
       "<table border=\"1\" class=\"dataframe\">\n",
       "  <thead>\n",
       "    <tr style=\"text-align: right;\">\n",
       "      <th></th>\n",
       "      <th>model</th>\n",
       "      <th>Train_Mean</th>\n",
       "      <th>std</th>\n",
       "      <th>Test_Score</th>\n",
       "    </tr>\n",
       "  </thead>\n",
       "  <tbody>\n",
       "    <tr>\n",
       "      <th>0</th>\n",
       "      <td>linreg</td>\n",
       "      <td>0.55</td>\n",
       "      <td>0.14</td>\n",
       "      <td>0.66</td>\n",
       "    </tr>\n",
       "    <tr>\n",
       "      <th>1</th>\n",
       "      <td>lasso</td>\n",
       "      <td>0.55</td>\n",
       "      <td>0.14</td>\n",
       "      <td>0.66</td>\n",
       "    </tr>\n",
       "    <tr>\n",
       "      <th>2</th>\n",
       "      <td>ridge</td>\n",
       "      <td>0.55</td>\n",
       "      <td>0.14</td>\n",
       "      <td>0.65</td>\n",
       "    </tr>\n",
       "    <tr>\n",
       "      <th>3</th>\n",
       "      <td>elastic</td>\n",
       "      <td>0.11</td>\n",
       "      <td>0.04</td>\n",
       "      <td>0.14</td>\n",
       "    </tr>\n",
       "    <tr>\n",
       "      <th>4</th>\n",
       "      <td>dt</td>\n",
       "      <td>0.48</td>\n",
       "      <td>0.23</td>\n",
       "      <td>0.21</td>\n",
       "    </tr>\n",
       "    <tr>\n",
       "      <th>5</th>\n",
       "      <td>rf</td>\n",
       "      <td>0.68</td>\n",
       "      <td>0.14</td>\n",
       "      <td>0.70</td>\n",
       "    </tr>\n",
       "    <tr>\n",
       "      <th>6</th>\n",
       "      <td>knn</td>\n",
       "      <td>0.54</td>\n",
       "      <td>0.16</td>\n",
       "      <td>0.64</td>\n",
       "    </tr>\n",
       "    <tr>\n",
       "      <th>7</th>\n",
       "      <td>svr</td>\n",
       "      <td>0.53</td>\n",
       "      <td>0.13</td>\n",
       "      <td>0.54</td>\n",
       "    </tr>\n",
       "    <tr>\n",
       "      <th>8</th>\n",
       "      <td>gb</td>\n",
       "      <td>0.69</td>\n",
       "      <td>0.11</td>\n",
       "      <td>0.75</td>\n",
       "    </tr>\n",
       "    <tr>\n",
       "      <th>9</th>\n",
       "      <td>xgb</td>\n",
       "      <td>0.61</td>\n",
       "      <td>0.13</td>\n",
       "      <td>0.65</td>\n",
       "    </tr>\n",
       "    <tr>\n",
       "      <th>10</th>\n",
       "      <td>lgb</td>\n",
       "      <td>0.65</td>\n",
       "      <td>0.14</td>\n",
       "      <td>0.73</td>\n",
       "    </tr>\n",
       "    <tr>\n",
       "      <th>11</th>\n",
       "      <td>mlp</td>\n",
       "      <td>0.66</td>\n",
       "      <td>0.13</td>\n",
       "      <td>0.73</td>\n",
       "    </tr>\n",
       "  </tbody>\n",
       "</table>\n",
       "</div>"
      ],
      "text/plain": [
       "      model  Train_Mean   std  Test_Score\n",
       "0    linreg        0.55  0.14        0.66\n",
       "1     lasso        0.55  0.14        0.66\n",
       "2     ridge        0.55  0.14        0.65\n",
       "3   elastic        0.11  0.04        0.14\n",
       "4        dt        0.48  0.23        0.21\n",
       "5        rf        0.68  0.14        0.70\n",
       "6       knn        0.54  0.16        0.64\n",
       "7       svr        0.53  0.13        0.54\n",
       "8        gb        0.69  0.11        0.75\n",
       "9       xgb        0.61  0.13        0.65\n",
       "10      lgb        0.65  0.14        0.73\n",
       "11      mlp        0.66  0.13        0.73"
      ]
     },
     "execution_count": 228,
     "metadata": {},
     "output_type": "execute_result"
    }
   ],
   "source": [
    "# Melihat hasil cross validation berdasarkan R2\n",
    "cv_r2"
   ]
  },
  {
   "cell_type": "code",
   "execution_count": 229,
   "id": "51646c6a-6872-495c-9666-2445e1030305",
   "metadata": {},
   "outputs": [
    {
     "data": {
      "text/html": [
       "<div>\n",
       "<style scoped>\n",
       "    .dataframe tbody tr th:only-of-type {\n",
       "        vertical-align: middle;\n",
       "    }\n",
       "\n",
       "    .dataframe tbody tr th {\n",
       "        vertical-align: top;\n",
       "    }\n",
       "\n",
       "    .dataframe thead th {\n",
       "        text-align: right;\n",
       "    }\n",
       "</style>\n",
       "<table border=\"1\" class=\"dataframe\">\n",
       "  <thead>\n",
       "    <tr style=\"text-align: right;\">\n",
       "      <th></th>\n",
       "      <th>model</th>\n",
       "      <th>Train_Mean</th>\n",
       "      <th>std</th>\n",
       "      <th>Test_Score</th>\n",
       "    </tr>\n",
       "  </thead>\n",
       "  <tbody>\n",
       "    <tr>\n",
       "      <th>0</th>\n",
       "      <td>gb</td>\n",
       "      <td>0.69</td>\n",
       "      <td>0.11</td>\n",
       "      <td>0.75</td>\n",
       "    </tr>\n",
       "    <tr>\n",
       "      <th>1</th>\n",
       "      <td>rf</td>\n",
       "      <td>0.68</td>\n",
       "      <td>0.14</td>\n",
       "      <td>0.70</td>\n",
       "    </tr>\n",
       "    <tr>\n",
       "      <th>2</th>\n",
       "      <td>mlp</td>\n",
       "      <td>0.66</td>\n",
       "      <td>0.13</td>\n",
       "      <td>0.73</td>\n",
       "    </tr>\n",
       "    <tr>\n",
       "      <th>3</th>\n",
       "      <td>lgb</td>\n",
       "      <td>0.65</td>\n",
       "      <td>0.14</td>\n",
       "      <td>0.73</td>\n",
       "    </tr>\n",
       "    <tr>\n",
       "      <th>4</th>\n",
       "      <td>xgb</td>\n",
       "      <td>0.61</td>\n",
       "      <td>0.13</td>\n",
       "      <td>0.65</td>\n",
       "    </tr>\n",
       "    <tr>\n",
       "      <th>5</th>\n",
       "      <td>linreg</td>\n",
       "      <td>0.55</td>\n",
       "      <td>0.14</td>\n",
       "      <td>0.66</td>\n",
       "    </tr>\n",
       "    <tr>\n",
       "      <th>6</th>\n",
       "      <td>lasso</td>\n",
       "      <td>0.55</td>\n",
       "      <td>0.14</td>\n",
       "      <td>0.66</td>\n",
       "    </tr>\n",
       "    <tr>\n",
       "      <th>7</th>\n",
       "      <td>ridge</td>\n",
       "      <td>0.55</td>\n",
       "      <td>0.14</td>\n",
       "      <td>0.65</td>\n",
       "    </tr>\n",
       "    <tr>\n",
       "      <th>8</th>\n",
       "      <td>knn</td>\n",
       "      <td>0.54</td>\n",
       "      <td>0.16</td>\n",
       "      <td>0.64</td>\n",
       "    </tr>\n",
       "    <tr>\n",
       "      <th>9</th>\n",
       "      <td>svr</td>\n",
       "      <td>0.53</td>\n",
       "      <td>0.13</td>\n",
       "      <td>0.54</td>\n",
       "    </tr>\n",
       "    <tr>\n",
       "      <th>10</th>\n",
       "      <td>dt</td>\n",
       "      <td>0.48</td>\n",
       "      <td>0.23</td>\n",
       "      <td>0.21</td>\n",
       "    </tr>\n",
       "    <tr>\n",
       "      <th>11</th>\n",
       "      <td>elastic</td>\n",
       "      <td>0.11</td>\n",
       "      <td>0.04</td>\n",
       "      <td>0.14</td>\n",
       "    </tr>\n",
       "  </tbody>\n",
       "</table>\n",
       "</div>"
      ],
      "text/plain": [
       "      model  Train_Mean   std  Test_Score\n",
       "0        gb        0.69  0.11        0.75\n",
       "1        rf        0.68  0.14        0.70\n",
       "2       mlp        0.66  0.13        0.73\n",
       "3       lgb        0.65  0.14        0.73\n",
       "4       xgb        0.61  0.13        0.65\n",
       "5    linreg        0.55  0.14        0.66\n",
       "6     lasso        0.55  0.14        0.66\n",
       "7     ridge        0.55  0.14        0.65\n",
       "8       knn        0.54  0.16        0.64\n",
       "9       svr        0.53  0.13        0.54\n",
       "10       dt        0.48  0.23        0.21\n",
       "11  elastic        0.11  0.04        0.14"
      ]
     },
     "execution_count": 229,
     "metadata": {},
     "output_type": "execute_result"
    }
   ],
   "source": [
    "# Mengurutkan skor dari besar ke kecil\n",
    "cv_r2_urut = cv_r2.sort_values(by=['Train_Mean','Test_Score'], ascending=False, ignore_index=True)\n",
    "cv_r2_urut"
   ]
  },
  {
   "cell_type": "markdown",
   "id": "58d82aa9-6793-47f7-b37e-a61e904ffc03",
   "metadata": {},
   "source": [
    "<br><hr>\n",
    "<br>"
   ]
  },
  {
   "cell_type": "markdown",
   "id": "4adc67e9-aa5b-4815-b8ac-86c11409166f",
   "metadata": {},
   "source": [
    "## 4. *Hyperparameter Tuning*"
   ]
  },
  {
   "cell_type": "markdown",
   "id": "142186cb-69c2-45f0-ae4b-ebd84d0d4d62",
   "metadata": {},
   "source": [
    "Sebenarnya kita sudah cukup puas dengan model regresi linear di atas.\n",
    "\n",
    "Namun performa di atas bisa ditingkatkan lagi dengan memilih parameter terbaik di setiap modelnya.\n",
    "\n",
    "Parameter yang diotak-atik (*tuning*) di setiap model ini kita tentukan sebelum model-model tersbeut di*training*.\n",
    "Selama proses *training*, nilai parameter ini tidak akan berubah.\n",
    "\n",
    "Nilai parameter yang kita *setting* di awal ini disebut dengan ***hyperparameter***.\n",
    "\n",
    "Untuk melakukan *hyperparameter tuning* kita gunakan modul <code>GridSearchCV()</code>.<br>\n",
    "**GridSearchCV()** akan mencoba semua kombinasi parameter yang sudah kita sediakan. Semakin banyak parameter dan semakin besar nilai k untuk CV maka semakin lama prosesnya.\n",
    "\n",
    "<code>GridSearchCV()</code> akan mengevaluasi semua settingan dari *hyperparameter* yang sudah disiapkan dan mempertahankan *setting*-an terbaik sampai selesai (setelah mencoba semua kombinasi *hyperparameter* dan semua *fold* di *cross validation*).\n",
    "\n",
    "Dokumentasi dari <code>GridSearchCV()</code> bisa dilihat melalui link berikut:<br>\n",
    "https://scikit-learn.org/stable/modules/generated/sklearn.model_selection.GridSearchCV.html"
   ]
  },
  {
   "cell_type": "markdown",
   "id": "2c412f75-daac-4f1f-990d-7e533753179d",
   "metadata": {},
   "source": [
    "Dalam melakukan *hyperparameter tuning*, jumlah *fold* yang kita gunakan kali ini adalah 10."
   ]
  },
  {
   "cell_type": "code",
   "execution_count": null,
   "id": "b829d0fe-1813-4ef2-b41b-3b0850caabc2",
   "metadata": {},
   "outputs": [
    {
     "name": "stdout",
     "output_type": "stream",
     "text": [
      "Fitting 10 folds for each of 1 candidates, totalling 10 fits\n",
      "Fitting 10 folds for each of 99 candidates, totalling 990 fits\n",
      "Fitting 10 folds for each of 297 candidates, totalling 2970 fits\n",
      "Fitting 10 folds for each of 15 candidates, totalling 150 fits\n",
      "Fitting 10 folds for each of 576 candidates, totalling 5760 fits\n",
      "Fitting 10 folds for each of 128 candidates, totalling 1280 fits\n",
      "Fitting 10 folds for each of 40 candidates, totalling 400 fits\n",
      "Fitting 10 folds for each of 216 candidates, totalling 2160 fits\n",
      "Fitting 10 folds for each of 144 candidates, totalling 1440 fits\n",
      "Fitting 10 folds for each of 9 candidates, totalling 90 fits\n",
      "Fitting 10 folds for each of 12 candidates, totalling 120 fits\n",
      "Fitting 10 folds for each of 24 candidates, totalling 240 fits\n"
     ]
    }
   ],
   "source": [
    "# Model training dengan GridSearchCV\n",
    "daftar_model = [mod_linreg, mod_lasso, mod_ridge, mod_enet, mod_dt, mod_rf, mod_knn, mod_svr, mod_gb, mod_xgb, mod_lgb, mod_mlp]\n",
    "daftar_nama_model = ['linreg', 'lasso', 'ridge', 'elastic', 'dt', 'rf', 'knn', 'svr', 'gb', 'xgb', 'lgb', 'mlp']\n",
    "daftar_param_model = [param_linreg, param_lasso, param_ridge, param_enet, param_dt, \n",
    "                     param_rf, param_knn, param_svr, param_gb, param_xgb, param_lgb, param_mlp]\n",
    "\n",
    "# Nilai yang akan diisikan\n",
    "mae_tuning = []\n",
    "mae_tuning_test = []\n",
    "r2_tuning = []\n",
    "r2_tuning_test = []\n",
    "best_param = []\n",
    "best_estimator = []\n",
    "\n",
    "for i in range(len(daftar_model)):\n",
    "    \n",
    "    # Menjalankan GridSearchCV\n",
    "    model_grid_cv = GridSearchCV(\n",
    "    daftar_model[i],\n",
    "    daftar_param_model[i],\n",
    "    cv=10,\n",
    "    verbose=1,\n",
    "    n_jobs=-1\n",
    "    ).fit(X_train,y_train)\n",
    "    \n",
    "    # Mencoba memprediksi training dan test set setelah fitting di training set, kemudian dikemas dalam format DataFrame\n",
    "    pred_train = pd.DataFrame(model_grid_cv.predict(X_train), columns=[target])\n",
    "    pred_test = pd.DataFrame(model_grid_cv.predict(X_test), columns=[target])\n",
    "\n",
    "    # Mencatat skor MAE training dan test set\n",
    "    mae_tuning.append(mean_absolute_error(y_train, pred_train))\n",
    "    mae_tuning_test.append(mean_absolute_error(y_test, pred_test))\n",
    "\n",
    "    # Mencatat skor R2 training dan test set\n",
    "    r2_tuning.append(r2_score(y_train, pred_train))\n",
    "    r2_tuning_test.append(r2_score(y_test, pred_test))   \n",
    "    \n",
    "    # Mencatat parameter terbaik di setiap model\n",
    "    best_param.append(model_grid_cv.best_params_)\n",
    "    \n",
    "    # Merekam settingan modelnya\n",
    "    best_estimator.append(model_grid_cv.best_estimator_)"
   ]
  },
  {
   "cell_type": "code",
   "execution_count": null,
   "id": "097aa9f5-348c-4587-9c63-f81766307ab9",
   "metadata": {},
   "outputs": [],
   "source": [
    "# Membuat DataFrame sekaligus kita urutkan\n",
    "grid_mae = pd.DataFrame({'model':daftar_nama_model, 'Training':mae_tuning, 'Testing':mae_tuning_test})\n",
    "grid_mae_urut = grid_mae.sort_values(by='Testing',  ignore_index=True)\n",
    "\n",
    "grid_r2 = pd.DataFrame({'model':daftar_nama_model, 'Training':r2_tuning, 'Testing':r2_tuning_test})\n",
    "grid_r2_urut = grid_r2.sort_values(by='Testing', ascending=False, ignore_index=True)"
   ]
  },
  {
   "cell_type": "markdown",
   "id": "68d6eaed-5a1f-4c3b-b22f-8d42050062fa",
   "metadata": {},
   "source": [
    "Kita pilih model terbaik berdasarkan performanya di *Test Set*."
   ]
  },
  {
   "cell_type": "code",
   "execution_count": null,
   "id": "41dff66c-3be2-418a-b9e5-aa5ba496224c",
   "metadata": {},
   "outputs": [],
   "source": [
    "# Melihat performa tuning berdasarkan MAE\n",
    "grid_mae_urut"
   ]
  },
  {
   "cell_type": "code",
   "execution_count": null,
   "id": "ba21487c-2eba-4fdf-802c-6b8dbe6ad9ca",
   "metadata": {},
   "outputs": [],
   "source": [
    "# Melihat performa tuning berdasarkan R2\n",
    "grid_r2_urut"
   ]
  },
  {
   "cell_type": "code",
   "execution_count": null,
   "id": "8d4089d4-1b75-47af-a592-4d3a0b800a7a",
   "metadata": {},
   "outputs": [],
   "source": [
    "# Parameter terbaik dari model terbaik\n",
    "grid_param = pd.DataFrame({'model':daftar_nama_model, 'Param':best_param})\n",
    "grid_param"
   ]
  },
  {
   "cell_type": "code",
   "execution_count": null,
   "id": "6dea0649-1c9b-48ad-a039-be6e3d545572",
   "metadata": {},
   "outputs": [],
   "source": [
    "# Estimator terbaik dari model terbaik\n",
    "grid_estimator = pd.DataFrame({'model':daftar_nama_model, 'Param':best_estimator})\n",
    "grid_estimator"
   ]
  },
  {
   "cell_type": "code",
   "execution_count": null,
   "id": "6e7e44b6-ac46-4db8-87c2-5fe72f468c3a",
   "metadata": {
    "tags": []
   },
   "outputs": [],
   "source": [
    "# Kita gabungkan semua dan urutkan berdasarkan nilai R2 di test set sebagai 'model_best_param'\n",
    "model_best_param = pd.DataFrame({'model':daftar_nama_model, 'Param':best_param, 'Testing':r2_tuning_test})\n",
    "model_best_param = model_best_param.sort_values(by='Testing', ascending=False, ignore_index=True)\n",
    "model_best_param"
   ]
  },
  {
   "cell_type": "code",
   "execution_count": null,
   "id": "41614b2e-4213-4586-9816-8fd6d601d31d",
   "metadata": {},
   "outputs": [],
   "source": [
    "# Kita gabungkan semua dan urutkan berdasarkan nilai R2 di test set sebagai 'model_best_estimator'\n",
    "model_best_estimator = pd.DataFrame({'model':daftar_nama_model, 'Param':best_estimator, 'Testing':r2_tuning_test})\n",
    "model_best_estimator = model_best_estimator.sort_values(by='Testing', ascending=False, ignore_index=True)\n",
    "model_best_estimator"
   ]
  },
  {
   "cell_type": "markdown",
   "id": "f7c29419-40e8-4520-b015-1bfd83902e53",
   "metadata": {},
   "source": [
    "<br>"
   ]
  },
  {
   "cell_type": "markdown",
   "id": "ba7cc18f-888f-4ee7-81cb-a54cb346e710",
   "metadata": {},
   "source": [
    "<br>"
   ]
  },
  {
   "cell_type": "markdown",
   "id": "542efc16-9dd5-4028-afac-1e9e2d759342",
   "metadata": {},
   "source": [
    "## 5.  Menggunakan Model Terbaik"
   ]
  },
  {
   "cell_type": "markdown",
   "id": "4b48b978-2e7f-44fc-8541-85a3950b0e3e",
   "metadata": {},
   "source": [
    "Sekarang kita harus melakukan *fitting* akhir di mana kita akan mentraining parameter dari model terbaik terhadap dataset utuh (gabungan *training set* dan *test set*)."
   ]
  },
  {
   "cell_type": "code",
   "execution_count": null,
   "id": "f5dff324-99a7-4ef3-8d9f-8e5fc8e6833d",
   "metadata": {},
   "outputs": [],
   "source": [
    "# Kita cek dataset utuh df\n",
    "df.head()"
   ]
  },
  {
   "cell_type": "code",
   "execution_count": null,
   "id": "4048f9e6-d275-4e04-ba42-10bfd74d4fe5",
   "metadata": {},
   "outputs": [],
   "source": [
    "# Kita bagi variabel independen dan dependen-nya\n",
    "X = df.iloc[:,:-1]\n",
    "y = df.iloc[:,-1]"
   ]
  },
  {
   "cell_type": "code",
   "execution_count": null,
   "id": "cd96cd79-02f9-4a37-b560-f9c0586d8db1",
   "metadata": {},
   "outputs": [],
   "source": [
    "# Melihat variabel independen X\n",
    "X.head()"
   ]
  },
  {
   "cell_type": "code",
   "execution_count": null,
   "id": "30a6f030-72c2-4ecc-8a69-66792deb71fe",
   "metadata": {},
   "outputs": [],
   "source": [
    "# Melihat variabel dependen y\n",
    "y.head()"
   ]
  },
  {
   "cell_type": "markdown",
   "id": "cc732ad4-6f73-451a-96ad-8ab69259e523",
   "metadata": {},
   "source": [
    "Training Ulang Model Akhir Dengan Dataset Utuh"
   ]
  },
  {
   "cell_type": "code",
   "execution_count": null,
   "id": "5220aae9-e5ef-414d-ba30-3556760b1003",
   "metadata": {},
   "outputs": [],
   "source": [
    "# Fitting ke dataset utuh\n",
    "model_final = model_best_estimator['Param'][0].fit(X,y)"
   ]
  },
  {
   "cell_type": "code",
   "execution_count": null,
   "id": "2e5a900c-c273-4a21-b4c3-fc181c368b94",
   "metadata": {},
   "outputs": [],
   "source": [
    "# Melihat spesifikasi model_final\n",
    "model_final"
   ]
  },
  {
   "cell_type": "code",
   "execution_count": null,
   "id": "600b0b1d-1a93-48ee-938f-1ed4314429ec",
   "metadata": {},
   "outputs": [],
   "source": [
    "# Menghitung importances\n",
    "importances = model_final[1].feature_importances_\n",
    "nama_feature = []\n",
    "fitur = model_final['preprocessing'].get_feature_names_out()\n",
    "for i in fitur:\n",
    "    if 'numerik' in i:\n",
    "        nama_feature.append(i.replace('preprocessing numerik__',''))\n",
    "    else:\n",
    "        nama_feature.append(i.replace('preprocessing kategori__',''))\n",
    "model_importances = pd.Series(importances, index=nama_feature)\n",
    "model_importances"
   ]
  },
  {
   "cell_type": "code",
   "execution_count": null,
   "id": "e090ddac-ec58-4546-8235-8bcca543647e",
   "metadata": {
    "tags": []
   },
   "outputs": [],
   "source": [
    "# Melakukan plotting\n",
    "fig, ax = plt.subplots(figsize = (7,5))\n",
    "model_importances.sort_values(ascending=False).plot.bar(ax=ax)\n",
    "ax.set_title(\"Plot Feature Importance Setiap Feature\")\n",
    "ax.set_ylabel(\"Mean decrease in impurity\")\n",
    "fig.tight_layout()"
   ]
  },
  {
   "cell_type": "markdown",
   "id": "bb931553-81ce-45b1-b3b9-1ccb68d3c0ba",
   "metadata": {},
   "source": [
    "<br>"
   ]
  },
  {
   "cell_type": "markdown",
   "id": "db66e635-c980-45b0-9ba6-447b52fb9288",
   "metadata": {},
   "source": [
    "<br>"
   ]
  },
  {
   "cell_type": "markdown",
   "id": "de9540eb-5d97-4bdc-ab87-16fcc37ae988",
   "metadata": {},
   "source": [
    "## 6. Menyimpan Model"
   ]
  },
  {
   "cell_type": "markdown",
   "id": "84eaa530-073c-4ed5-abca-73b59efb6cb0",
   "metadata": {},
   "source": [
    "Sekarang kita akan menyimpan modelnya untuk nanti bisa dipakai dan di*deploy*."
   ]
  },
  {
   "cell_type": "code",
   "execution_count": null,
   "id": "dfd91fbe-ad31-4255-9ca2-39a296303dfe",
   "metadata": {
    "id": "C8LvUKDBZmLj"
   },
   "outputs": [],
   "source": [
    "# Library untuk menyimpan model\n",
    "import pickle"
   ]
  },
  {
   "cell_type": "code",
   "execution_count": null,
   "id": "5d1f61f8-69f9-47fe-b451-880219317bee",
   "metadata": {
    "id": "4T-aJPRRZcbn"
   },
   "outputs": [],
   "source": [
    "# Menyimpan model dengan nama 'model_regresi_terbaik.pkl'\n",
    "pickle.dump(model_final, open('model_regresi_terbaik.pkl', 'wb'))"
   ]
  },
  {
   "cell_type": "markdown",
   "id": "75fbb489-db86-4f45-afdd-30d8bd0f2f6e",
   "metadata": {},
   "source": [
    "Sekarang kita akan coba memprediksi X_test menggunakan model yang sudah kita simpan."
   ]
  },
  {
   "cell_type": "code",
   "execution_count": null,
   "id": "3fe841e8-539c-453b-9ca6-96b797555a48",
   "metadata": {},
   "outputs": [],
   "source": [
    "# Load lagi model yang sudah disimpan dan buka sebagai 'best_model'\n",
    "best_model = pickle.load(open('model_regresi_terbaik.pkl', 'rb'))"
   ]
  },
  {
   "cell_type": "code",
   "execution_count": null,
   "id": "2232ee73-43c4-4731-ad09-ceb87ec6703e",
   "metadata": {},
   "outputs": [],
   "source": [
    "# Mencoba melakukan prediksi X_test\n",
    "prediksi = best_model.predict(X_test)\n",
    "\n",
    "# Melihat hasil prediksi\n",
    "prediksi[:5]"
   ]
  },
  {
   "cell_type": "code",
   "execution_count": null,
   "id": "627bbec2-2bc9-490b-87f7-c71851ba1329",
   "metadata": {},
   "outputs": [],
   "source": [
    "# Merubah dalam format DataFrame\n",
    "prediksi = pd.DataFrame(prediksi, columns=[target])\n",
    "prediksi"
   ]
  },
  {
   "cell_type": "markdown",
   "id": "6fba438b-d720-431b-b278-102846325635",
   "metadata": {},
   "source": [
    "<br>\n",
    "<br>"
   ]
  },
  {
   "cell_type": "markdown",
   "id": "320e0e36-dfce-4f02-997b-46b6d12f3c0c",
   "metadata": {},
   "source": [
    "## 7. Feature Importance"
   ]
  },
  {
   "cell_type": "markdown",
   "id": "28ad4761-2cf5-4f56-84e6-7c822c57da85",
   "metadata": {},
   "source": [
    "Kita bisa melihat feature apa saja yang paling berpengaruh atau sering disebut dengan istilah *feature importance*."
   ]
  },
  {
   "cell_type": "code",
   "execution_count": null,
   "id": "160bef10-578a-4fbb-ac7a-be1d4b586263",
   "metadata": {},
   "outputs": [],
   "source": [
    "# Menyiapkan tabel untuk nanti diiterasi satu per satu\n",
    "model_ft = model_best_estimator.set_index('model')\n",
    "model_ft"
   ]
  },
  {
   "cell_type": "markdown",
   "id": "bdc99685-c039-4199-a3e7-7995f86cfd73",
   "metadata": {},
   "source": [
    "<br>"
   ]
  },
  {
   "cell_type": "markdown",
   "id": "ae8f3f7a-2ab5-4286-9478-78ac0033d1cc",
   "metadata": {},
   "source": [
    "#### 7.1 Model Linear Regression"
   ]
  },
  {
   "cell_type": "code",
   "execution_count": null,
   "id": "59774e59-fba8-4914-9093-fe0a6ab361a1",
   "metadata": {},
   "outputs": [],
   "source": [
    "# Melihat pipeline model linreg\n",
    "nama_model = model_ft.loc['linreg','Param']['linreg']\n",
    "nama_model"
   ]
  },
  {
   "cell_type": "code",
   "execution_count": null,
   "id": "6d9e7e85-7e91-4d54-8329-264fdfa82df3",
   "metadata": {},
   "outputs": [],
   "source": [
    "# Looping untuk mencetak persamaan regresi linear\n",
    "for i,j in enumerate(nama_model.coef_):\n",
    "    if i == 0:\n",
    "        print(str(target),'=',nama_model.intercept_,'+',nama_model.coef_[i],'*',mod_linreg['preprocessing'].get_feature_names_out()[i],'+')\n",
    "    elif i != len(nama_model.coef_)-1:\n",
    "        print(nama_model.coef_[i],'*',mod_linreg['preprocessing'].get_feature_names_out()[i],'+')\n",
    "    else:\n",
    "        print(nama_model.coef_[i],'*',mod_linreg['preprocessing'].get_feature_names_out()[i])"
   ]
  },
  {
   "cell_type": "code",
   "execution_count": null,
   "id": "80ebcfa7-6ac8-4598-8bbf-a3e7b10c8d39",
   "metadata": {},
   "outputs": [],
   "source": [
    "# Melihat nilai setiap koefisien\n",
    "modelku = model_ft.loc['linreg','Param']\n",
    "importance = modelku['linreg'].coef_\n",
    "nama_feature = []\n",
    "fitur = modelku['preprocessing'].get_feature_names_out()\n",
    "for i in fitur:\n",
    "    if 'numerik' in i:\n",
    "        nama_feature.append(i.replace('preprocessing numerik__',''))\n",
    "    else:\n",
    "        nama_feature.append(i.replace('preprocessing kategori__',''))\n",
    "print(f'Intercept \\t     {nama_model.intercept_:.6f}')\n",
    "model_importances = pd.Series(importance, index=nama_feature)\n",
    "model_importances"
   ]
  },
  {
   "cell_type": "code",
   "execution_count": null,
   "id": "a3b2870b-b7bd-4bf6-a8ef-8900e199ebf8",
   "metadata": {
    "tags": []
   },
   "outputs": [],
   "source": [
    "# Melakukan plotting feature importance\n",
    "fig, ax = plt.subplots(figsize = (7,5))\n",
    "model_importances.sort_values(ascending=False).plot.bar(ax=ax)\n",
    "ax.set_title(\"Plot Feature Importance Setiap Feature\")\n",
    "ax.set_ylabel(\"Nilai Koefisien\")\n",
    "fig.tight_layout()"
   ]
  },
  {
   "cell_type": "markdown",
   "id": "406a5360-1681-4287-9901-1af8902253f4",
   "metadata": {},
   "source": [
    "#### 7.2 Model Lasso Regression"
   ]
  },
  {
   "cell_type": "code",
   "execution_count": null,
   "id": "f5e96274-71f6-45bf-a99d-0701ba4aa43b",
   "metadata": {},
   "outputs": [],
   "source": [
    "# Melihat pipeline model lasso\n",
    "nama_model = model_ft.loc['lasso','Param']['lasso']\n",
    "nama_model"
   ]
  },
  {
   "cell_type": "code",
   "execution_count": null,
   "id": "6d368992-7140-4493-96a2-a2e813dd753b",
   "metadata": {},
   "outputs": [],
   "source": [
    "# Looping untuk mencetak persamaan regresi lasso\n",
    "for i,j in enumerate(nama_model.coef_):\n",
    "    if i == 0:\n",
    "        print(str(target),'=',nama_model.intercept_,'+',nama_model.coef_[i],'*',mod_lasso['preprocessing'].get_feature_names_out()[i],'+')\n",
    "    elif i != len(nama_model.coef_)-1:\n",
    "        print(nama_model.coef_[i],'*',mod_lasso['preprocessing'].get_feature_names_out()[i],'+')\n",
    "    else:\n",
    "        print(nama_model.coef_[i],'*',mod_lasso['preprocessing'].get_feature_names_out()[i])"
   ]
  },
  {
   "cell_type": "code",
   "execution_count": null,
   "id": "86568414-3f1c-4461-8738-686c7afc3d05",
   "metadata": {},
   "outputs": [],
   "source": [
    "# Melihat nilai setiap koefisien\n",
    "modelku = model_ft.loc['lasso','Param']\n",
    "importance = modelku['lasso'].coef_\n",
    "nama_feature = []\n",
    "fitur = modelku['preprocessing'].get_feature_names_out()\n",
    "for i in fitur:\n",
    "    if 'numerik' in i:\n",
    "        nama_feature.append(i.replace('preprocessing numerik__',''))\n",
    "    else:\n",
    "        nama_feature.append(i.replace('preprocessing kategori__',''))\n",
    "print(f'Intercept \\t   {nama_model.intercept_:.6f}')\n",
    "model_importances = pd.Series(importance, index=nama_feature)\n",
    "model_importances"
   ]
  },
  {
   "cell_type": "code",
   "execution_count": null,
   "id": "b73e7f04-c252-4cc3-8772-bb2723d50f00",
   "metadata": {
    "tags": []
   },
   "outputs": [],
   "source": [
    "# Melakukan plotting feature importance\n",
    "fig, ax = plt.subplots(figsize = (7,5))\n",
    "model_importances.sort_values(ascending=False).plot.bar(ax=ax)\n",
    "ax.set_title(\"Plot Feature Importance Setiap Feature\")\n",
    "ax.set_ylabel(\"Nilai Koefisien\")\n",
    "fig.tight_layout()"
   ]
  },
  {
   "cell_type": "markdown",
   "id": "e1ebb9ea-8f99-4547-864c-8137b434666c",
   "metadata": {},
   "source": [
    "<br>"
   ]
  },
  {
   "cell_type": "markdown",
   "id": "8cf22b9d-af3f-48f2-afe8-9114a2baea0b",
   "metadata": {},
   "source": [
    "#### 7.3 Model Ridge Regression"
   ]
  },
  {
   "cell_type": "code",
   "execution_count": null,
   "id": "563e9536-de1a-489c-9827-5b6f767c72a8",
   "metadata": {},
   "outputs": [],
   "source": [
    "# Melihat pipeline model\n",
    "nama_model = model_ft.loc['ridge','Param']['ridge']\n",
    "nama_model"
   ]
  },
  {
   "cell_type": "code",
   "execution_count": null,
   "id": "5edd494a-47c5-4f03-9ea5-68092c45254e",
   "metadata": {},
   "outputs": [],
   "source": [
    "# Looping untuk mencetak persamaan\n",
    "for i,j in enumerate(nama_model.coef_):\n",
    "    if i == 0:\n",
    "        print(str(target),'=',nama_model.intercept_,'+',nama_model.coef_[i],'*',mod_lasso['preprocessing'].get_feature_names_out()[i],'+')\n",
    "    elif i != len(nama_model.coef_)-1:\n",
    "        print(nama_model.coef_[i],'*',mod_lasso['preprocessing'].get_feature_names_out()[i],'+')\n",
    "    else:\n",
    "        print(nama_model.coef_[i],'*',mod_lasso['preprocessing'].get_feature_names_out()[i])"
   ]
  },
  {
   "cell_type": "code",
   "execution_count": null,
   "id": "f75d0bb1-ad49-473c-8f9b-9e60088c9f4b",
   "metadata": {},
   "outputs": [],
   "source": [
    "# Melihat nilai setiap koefisien\n",
    "modelku = model_ft.loc['ridge','Param']\n",
    "importance = modelku['ridge'].coef_\n",
    "nama_feature = []\n",
    "fitur = modelku['preprocessing'].get_feature_names_out()\n",
    "for i in fitur:\n",
    "    if 'numerik' in i:\n",
    "        nama_feature.append(i.replace('preprocessing numerik__',''))\n",
    "    else:\n",
    "        nama_feature.append(i.replace('preprocessing kategori__',''))\n",
    "print(f'Intercept \\t   {nama_model.intercept_:.6f}')\n",
    "model_importances = pd.Series(importance, index=nama_feature)\n",
    "model_importances"
   ]
  },
  {
   "cell_type": "code",
   "execution_count": null,
   "id": "5c7e7b11-1126-4707-b97f-d5980dc3b7b0",
   "metadata": {
    "tags": []
   },
   "outputs": [],
   "source": [
    "# Melakukan plotting feature importance\n",
    "fig, ax = plt.subplots(figsize = (7,5))\n",
    "model_importances.sort_values(ascending=False).plot.bar(ax=ax)\n",
    "ax.set_title(\"Plot Feature Importance Setiap Feature\")\n",
    "ax.set_ylabel(\"Nilai Koefisien\")\n",
    "fig.tight_layout()"
   ]
  },
  {
   "cell_type": "markdown",
   "id": "8d67cfd0-61d6-4e9c-8153-a74081e72aa6",
   "metadata": {},
   "source": [
    "<br>"
   ]
  },
  {
   "cell_type": "markdown",
   "id": "5911638b-8df4-47b7-9ef3-f5e3bc08c3a0",
   "metadata": {},
   "source": [
    "#### 7.4 Model Elastic Net"
   ]
  },
  {
   "cell_type": "code",
   "execution_count": null,
   "id": "f4b79c7f-07a9-4a42-b16e-8f10f29990af",
   "metadata": {},
   "outputs": [],
   "source": [
    "# Melihat pipeline model\n",
    "nama_model = model_ft.loc['elastic','Param']['enet']\n",
    "nama_model"
   ]
  },
  {
   "cell_type": "code",
   "execution_count": null,
   "id": "8c1ff8a6-fbfb-4b3a-a266-410a8bfd4b8e",
   "metadata": {},
   "outputs": [],
   "source": [
    "# Looping untuk mencetak persamaan\n",
    "for i,j in enumerate(nama_model.coef_):\n",
    "    if i == 0:\n",
    "        print(str(target),'=',nama_model.intercept_,'+',nama_model.coef_[i],'*',mod_lasso['preprocessing'].get_feature_names_out()[i],'+')\n",
    "    elif i != len(nama_model.coef_)-1:\n",
    "        print(nama_model.coef_[i],'*',mod_lasso['preprocessing'].get_feature_names_out()[i],'+')\n",
    "    else:\n",
    "        print(nama_model.coef_[i],'*',mod_lasso['preprocessing'].get_feature_names_out()[i])"
   ]
  },
  {
   "cell_type": "code",
   "execution_count": null,
   "id": "c520d605-41da-4c55-bf72-bf1a721f1b88",
   "metadata": {},
   "outputs": [],
   "source": [
    "# Melihat nilai setiap koefisien\n",
    "modelku = model_ft.loc['elastic','Param']\n",
    "importance = modelku['enet'].coef_\n",
    "nama_feature = []\n",
    "fitur = modelku['preprocessing'].get_feature_names_out()\n",
    "for i in fitur:\n",
    "    if 'numerik' in i:\n",
    "        nama_feature.append(i.replace('preprocessing numerik__',''))\n",
    "    else:\n",
    "        nama_feature.append(i.replace('preprocessing kategori__',''))\n",
    "print(f'Intercept \\t     {nama_model.intercept_:.6f}')\n",
    "model_importances = pd.Series(importance, index=nama_feature)\n",
    "model_importances"
   ]
  },
  {
   "cell_type": "code",
   "execution_count": null,
   "id": "7d096faa-3b7c-4228-bc9e-cbb8585f8b94",
   "metadata": {
    "tags": []
   },
   "outputs": [],
   "source": [
    "# Melakukan plotting feature importance\n",
    "fig, ax = plt.subplots(figsize = (7,5))\n",
    "model_importances.sort_values(ascending=False).plot.bar(ax=ax)\n",
    "ax.set_title(\"Plot Feature Importance Setiap Feature\")\n",
    "ax.set_ylabel(\"Nilai Koefisien\")\n",
    "fig.tight_layout()"
   ]
  },
  {
   "cell_type": "markdown",
   "id": "1c2aee29-8bf4-42e8-a518-004aaab875cd",
   "metadata": {},
   "source": [
    "<br>"
   ]
  },
  {
   "cell_type": "markdown",
   "id": "dbb75a3f-0a57-49d4-8be4-45c0defdd702",
   "metadata": {},
   "source": [
    "#### 7.5 Model Decision Tree"
   ]
  },
  {
   "cell_type": "code",
   "execution_count": null,
   "id": "7955787c-89a2-407b-91ae-ae7f08b58c0a",
   "metadata": {},
   "outputs": [],
   "source": [
    "# Melihat pipeline model\n",
    "nama_model = model_ft.loc['dt','Param']['dt']\n",
    "nama_model"
   ]
  },
  {
   "cell_type": "code",
   "execution_count": null,
   "id": "abddc687-82a1-402a-b98f-6be82e06d9a9",
   "metadata": {
    "tags": []
   },
   "outputs": [],
   "source": [
    "# Menghitung importances\n",
    "modelku = model_ft.loc['dt','Param']\n",
    "nama_feature = []\n",
    "fitur = modelku['preprocessing'].get_feature_names_out()\n",
    "for i in fitur:\n",
    "    if 'numerik' in i:\n",
    "        nama_feature.append(i.replace('preprocessing numerik__',''))\n",
    "    else:\n",
    "        nama_feature.append(i.replace('preprocessing kategori__',''))\n",
    "\n",
    "importances = nama_model.feature_importances_\n",
    "importances = pd.Series(importances, index=nama_feature)\n",
    "importances"
   ]
  },
  {
   "cell_type": "code",
   "execution_count": null,
   "id": "c0998ad4-0a80-433c-b097-e9ea5f0ab22f",
   "metadata": {
    "tags": []
   },
   "outputs": [],
   "source": [
    "# Melakukan plotting\n",
    "fig, ax = plt.subplots(figsize = (7,5))\n",
    "importances.sort_values(ascending=False).plot.bar(ax=ax)\n",
    "ax.set_title('Plot Feature Importance Setiap Feature')\n",
    "ax.set_ylabel('Mean decrease impurity')\n",
    "fig.tight_layout()"
   ]
  },
  {
   "cell_type": "markdown",
   "id": "f286ee48-d6ce-44d8-bc2a-bcf858aee4d9",
   "metadata": {},
   "source": [
    "\"Mean Decrease Impurity\" adalah cara untuk mengukur seberapa banyak setiap pertanyaan (atau fitur) membantu dalam mengorganisir data kita. Kata \"impurity\" berarti seberapa tercampur atau berantakannya sesuatu. Jika sebuah pertanyaan (atau fitur) membantu memisahkan data menjadi kelompok yang lebih bersih dan terorganisir, maka ia mendapatkan skor \"Mean Decrease Impurity\" yang lebih tinggi."
   ]
  },
  {
   "cell_type": "markdown",
   "id": "3ef9c250-a2c8-4765-ac7d-c96c2e92edc1",
   "metadata": {},
   "source": [
    "<br>"
   ]
  },
  {
   "cell_type": "markdown",
   "id": "ee954dcb-4c80-4f63-9af8-a892938978e6",
   "metadata": {},
   "source": [
    "#### 7.6 Model Random Forest"
   ]
  },
  {
   "cell_type": "code",
   "execution_count": null,
   "id": "477066c2-8c0b-4cf8-a39e-6ad8661c9ffa",
   "metadata": {},
   "outputs": [],
   "source": [
    "# Melihat pipeline model\n",
    "nama_model = model_ft.loc['rf','Param']['rf']\n",
    "nama_model"
   ]
  },
  {
   "cell_type": "code",
   "execution_count": null,
   "id": "d1cbacd9-59ad-4bc4-af05-e2a4af4f8fd9",
   "metadata": {
    "tags": []
   },
   "outputs": [],
   "source": [
    "# Menghitung importances\n",
    "modelku = model_ft.loc['rf','Param']\n",
    "nama_feature = []\n",
    "fitur = modelku['preprocessing'].get_feature_names_out()\n",
    "for i in fitur:\n",
    "    if 'numerik' in i:\n",
    "        nama_feature.append(i.replace('preprocessing numerik__',''))\n",
    "    else:\n",
    "        nama_feature.append(i.replace('preprocessing kategori__',''))\n",
    "\n",
    "importances = nama_model.feature_importances_\n",
    "importances = pd.Series(importances, index=nama_feature)\n",
    "importances"
   ]
  },
  {
   "cell_type": "code",
   "execution_count": null,
   "id": "883cdd91-89e3-43d9-a86e-40484baa3b92",
   "metadata": {
    "tags": []
   },
   "outputs": [],
   "source": [
    "# Melakukan plotting\n",
    "fig, ax = plt.subplots(figsize = (7,5))\n",
    "importances.sort_values(ascending=False).plot.bar(ax=ax)\n",
    "ax.set_title('Plot Feature Importance Setiap Feature')\n",
    "ax.set_ylabel('Mean decrease impurity')\n",
    "fig.tight_layout()"
   ]
  },
  {
   "cell_type": "markdown",
   "id": "53757bf3-1fcf-42a8-97cc-06560dba3b50",
   "metadata": {},
   "source": [
    "<br>"
   ]
  },
  {
   "cell_type": "markdown",
   "id": "8261bccc-ff2e-46be-9ebd-3db607ad0fdd",
   "metadata": {},
   "source": [
    "#### 7.7 Model KNN"
   ]
  },
  {
   "cell_type": "code",
   "execution_count": null,
   "id": "6a326ddb-d6f6-46b7-a905-b206a8e56387",
   "metadata": {},
   "outputs": [],
   "source": [
    "# Melihat pipeline model\n",
    "nama_model = model_ft.loc['knn','Param']['knn']\n",
    "nama_model"
   ]
  },
  {
   "cell_type": "code",
   "execution_count": null,
   "id": "94051848-c453-4444-bcc5-b5d187d221eb",
   "metadata": {},
   "outputs": [],
   "source": [
    "# Fitting menggunakan shap\n",
    "explainer = shap.Explainer(nama_model.predict, X_test)\n",
    "shap_values = explainer(X_test)"
   ]
  },
  {
   "cell_type": "code",
   "execution_count": null,
   "id": "8d092d58-413e-425f-9a87-e76a8b39f545",
   "metadata": {},
   "outputs": [],
   "source": [
    "# Plotting barplot\n",
    "shap.plots.bar(shap_values)"
   ]
  },
  {
   "cell_type": "markdown",
   "id": "f5ccd2bd-d690-444b-bff0-46275c4e28d8",
   "metadata": {},
   "source": [
    "Di sini, fitur-fitur diurutkan dari pengaruh tertinggi hingga terendah terhadap prediksi. <br>\n",
    "Pengurutan ini berdasarkan nilai SHAP absolut, sehingga tidak masalah apakah fitur tersebut mempengaruhi prediksi secara positif atau negatif"
   ]
  },
  {
   "cell_type": "code",
   "execution_count": null,
   "id": "7f1065da-78a1-48fe-976f-fafa9b94a753",
   "metadata": {},
   "outputs": [],
   "source": [
    "# Ringkasan dan penjelasan\n",
    "shap.summary_plot(shap_values)"
   ]
  },
  {
   "cell_type": "markdown",
   "id": "2b2c804c-75b1-4d79-bd09-71772b332f53",
   "metadata": {
    "tags": []
   },
   "source": [
    "Pada plot di atas, fitur-fitur juga diurutkan berdasarkan pengaruhnya terhadap prediksi, tetapi kita juga dapat melihat bagaimana nilai yang lebih tinggi dan lebih rendah dari fitur tersebut akan mempengaruhi hasil.<br>\n",
    "Semua titik kecil pada plot mewakili satu observasi. <br>\n",
    "Sumbu horizontal mewakili nilai SHAP, sementara warna titik menunjukkan apakah observasi tersebut memiliki nilai yang lebih tinggi atau lebih rendah dibandingkan dengan observasi lainnya.<br>\n",
    "Dalam contoh ini, nilai Age dan Cement yang lebih tinggi memiliki dampak nilai yang semakin positif terhadap prediksi, sedangkan nilai yang lebih rendah memiliki dampak negatif.<br>\n",
    "Sebaliknya, nilai Fine_aggregate semakin tinggi justru berdampak negatif terhadap prediksi."
   ]
  },
  {
   "cell_type": "markdown",
   "id": "a7d188da-2205-4c11-9837-1ee62176023c",
   "metadata": {},
   "source": [
    "<br>"
   ]
  },
  {
   "cell_type": "markdown",
   "id": "f049dc33-4420-4518-96b4-b1d66ef9f60f",
   "metadata": {},
   "source": [
    "#### 7.8 Model SVR"
   ]
  },
  {
   "cell_type": "code",
   "execution_count": null,
   "id": "3cc5468c-fee0-43c3-8177-799724225c5c",
   "metadata": {},
   "outputs": [],
   "source": [
    "# Melihat pipeline model\n",
    "nama_model = model_ft.loc['svr','Param']['svr']\n",
    "nama_model"
   ]
  },
  {
   "cell_type": "code",
   "execution_count": null,
   "id": "8538b61a-0aac-4898-8c8b-4c423fa60a1c",
   "metadata": {},
   "outputs": [],
   "source": [
    "# Menghitung importances\n",
    "modelku = model_ft.loc['svr','Param']\n",
    "nama_feature = []\n",
    "fitur = modelku['preprocessing'].get_feature_names_out()\n",
    "for i in fitur:\n",
    "    if 'numerik' in i:\n",
    "        nama_feature.append(i.replace('preprocessing numerik__',''))\n",
    "    else:\n",
    "        nama_feature.append(i.replace('preprocessing kategori__',''))\n",
    "hasil = permutation_importance(nama_model, X, y, scoring='neg_mean_squared_error', random_state=0)\n",
    "importances = hasil.importances_mean\n",
    "importances = pd.Series(importances, index=nama_feature)\n",
    "importances"
   ]
  },
  {
   "cell_type": "code",
   "execution_count": null,
   "id": "326ee19e-13aa-4ce9-8409-1929f822886f",
   "metadata": {},
   "outputs": [],
   "source": [
    "# Melakukan plotting\n",
    "fig, ax = plt.subplots(figsize = (7,5))\n",
    "importances.sort_values(ascending=False).plot.bar(ax=ax)\n",
    "ax.set_title('Plot Feature Importance Setiap Feature')\n",
    "ax.set_ylabel('Permutation Importance')\n",
    "fig.tight_layout()"
   ]
  },
  {
   "cell_type": "markdown",
   "id": "25a9c8a1-9a87-40c7-8dc8-412219f54919",
   "metadata": {
    "tags": []
   },
   "source": [
    "Permutation feature importance adalah teknik inspeksi model yang mengukur kontribusi setiap fitur terhadap performa statistik model yang sudah dilatih pada dataset tabular. Teknik ini sangat berguna untuk estimator yang non-linear atau tidak transparan, dan melibatkan pengacakan nilai-nilai dari satu fitur secara acak, kemudian mengamati penurunan skor model yang dihasilkan. Dengan memutuskan hubungan antara fitur dan target, kita dapat menentukan seberapa besar model bergantung pada fitur tersebut"
   ]
  },
  {
   "cell_type": "markdown",
   "id": "f60629a5-7e63-4778-988c-d225c8c65f0a",
   "metadata": {},
   "source": [
    "<br>"
   ]
  },
  {
   "cell_type": "markdown",
   "id": "22b9feca-1779-4657-aa30-600256757519",
   "metadata": {},
   "source": [
    "#### 7.9 Model Gradient Boosting"
   ]
  },
  {
   "cell_type": "code",
   "execution_count": null,
   "id": "5b547663-87b9-4d2c-b346-509cee3afe49",
   "metadata": {},
   "outputs": [],
   "source": [
    "# Melihat pipeline model\n",
    "nama_model = model_ft.loc['gb','Param']['gb']\n",
    "nama_model"
   ]
  },
  {
   "cell_type": "code",
   "execution_count": null,
   "id": "cecf44e3-4b39-471f-9bd7-f595068b9c9d",
   "metadata": {
    "tags": []
   },
   "outputs": [],
   "source": [
    "# Menghitung importances\n",
    "modelku = model_ft.loc['gb','Param']\n",
    "nama_feature = []\n",
    "fitur = modelku['preprocessing'].get_feature_names_out()\n",
    "for i in fitur:\n",
    "    if 'numerik' in i:\n",
    "        nama_feature.append(i.replace('preprocessing numerik__',''))\n",
    "    else:\n",
    "        nama_feature.append(i.replace('preprocessing kategori__',''))\n",
    "\n",
    "importances = nama_model.feature_importances_\n",
    "importances = pd.Series(importances, index=nama_feature)\n",
    "importances"
   ]
  },
  {
   "cell_type": "code",
   "execution_count": null,
   "id": "74022e7e-c2f1-41b2-8f34-1915602283a9",
   "metadata": {
    "tags": []
   },
   "outputs": [],
   "source": [
    "# Melakukan plotting\n",
    "fig, ax = plt.subplots(figsize = (7,5))\n",
    "importances.sort_values(ascending=False).plot.bar(ax=ax)\n",
    "ax.set_title('Plot Feature Importance Setiap Feature')\n",
    "ax.set_ylabel('Mean decrease impurity')\n",
    "fig.tight_layout()"
   ]
  },
  {
   "cell_type": "markdown",
   "id": "2531b399-d2f6-4384-9a1f-0ea1c3e46b14",
   "metadata": {},
   "source": [
    "<br>"
   ]
  },
  {
   "cell_type": "markdown",
   "id": "4a103ecb-b91b-43bd-8fcc-903c4c36e0c3",
   "metadata": {},
   "source": [
    "#### 7.10 Model XGBoost"
   ]
  },
  {
   "cell_type": "code",
   "execution_count": null,
   "id": "7b44ca19-cd45-4e7a-9bd6-302f0d7c35a0",
   "metadata": {},
   "outputs": [],
   "source": [
    "# Melihat pipeline model\n",
    "nama_model = model_ft.loc['xgb','Param']['xgb']\n",
    "nama_model"
   ]
  },
  {
   "cell_type": "code",
   "execution_count": null,
   "id": "bc269223-bc0f-4e9f-a8a8-3fdf9c3924a6",
   "metadata": {
    "tags": []
   },
   "outputs": [],
   "source": [
    "# Menghitung importances\n",
    "modelku = model_ft.loc['xgb','Param']\n",
    "nama_feature = []\n",
    "fitur = modelku['preprocessing'].get_feature_names_out()\n",
    "for i in fitur:\n",
    "    if 'numerik' in i:\n",
    "        nama_feature.append(i.replace('preprocessing numerik__',''))\n",
    "    else:\n",
    "        nama_feature.append(i.replace('preprocessing kategori__',''))\n",
    "\n",
    "importances = nama_model.feature_importances_\n",
    "importances = pd.Series(importances, index=nama_feature)\n",
    "importances"
   ]
  },
  {
   "cell_type": "code",
   "execution_count": null,
   "id": "0e6b5f52-033d-42e5-99f8-56ea20b7e47a",
   "metadata": {
    "tags": []
   },
   "outputs": [],
   "source": [
    "# Melakukan plotting\n",
    "fig, ax = plt.subplots(figsize = (7,5))\n",
    "importances.sort_values(ascending=False).plot.bar(ax=ax)\n",
    "ax.set_title('Plot Feature Importance Setiap Feature')\n",
    "ax.set_ylabel('Mean decrease impurity')\n",
    "fig.tight_layout()"
   ]
  },
  {
   "cell_type": "markdown",
   "id": "c65e1244-a0af-483c-ac1a-7e392576beef",
   "metadata": {},
   "source": [
    "<br>"
   ]
  },
  {
   "cell_type": "markdown",
   "id": "f6303455-bc3b-4f5e-a7b4-3888bc3503a1",
   "metadata": {},
   "source": [
    "#### 7.11 Model Light GBM"
   ]
  },
  {
   "cell_type": "code",
   "execution_count": null,
   "id": "9803a4e8-bc09-4c50-882f-ca176268ca92",
   "metadata": {},
   "outputs": [],
   "source": [
    "# Melihat pipeline model\n",
    "nama_model = model_ft.loc['lgb','Param']['lgb']\n",
    "nama_model"
   ]
  },
  {
   "cell_type": "code",
   "execution_count": null,
   "id": "0a4c2155-86a4-422b-97b0-37d6e83707df",
   "metadata": {
    "tags": []
   },
   "outputs": [],
   "source": [
    "# Menghitung importances\n",
    "modelku = model_ft.loc['lgb','Param']\n",
    "nama_feature = []\n",
    "fitur = modelku['preprocessing'].get_feature_names_out()\n",
    "for i in fitur:\n",
    "    if 'numerik' in i:\n",
    "        nama_feature.append(i.replace('preprocessing numerik__',''))\n",
    "    else:\n",
    "        nama_feature.append(i.replace('preprocessing kategori__',''))\n",
    "\n",
    "importances = nama_model.feature_importances_\n",
    "importances = pd.Series(importances, index=nama_feature)\n",
    "importances"
   ]
  },
  {
   "cell_type": "code",
   "execution_count": null,
   "id": "60834b32-ce90-4f66-a907-6270026c514c",
   "metadata": {
    "tags": []
   },
   "outputs": [],
   "source": [
    "# Melakukan plotting\n",
    "fig, ax = plt.subplots(figsize = (7,5))\n",
    "importances.sort_values(ascending=False).plot.bar(ax=ax)\n",
    "ax.set_title('Plot Feature Importance Setiap Feature')\n",
    "ax.set_ylabel('Mean decrease impurity')\n",
    "fig.tight_layout()"
   ]
  },
  {
   "cell_type": "markdown",
   "id": "44d909bc-a25e-42a7-b8a6-30378298f456",
   "metadata": {},
   "source": [
    "<br>"
   ]
  },
  {
   "cell_type": "markdown",
   "id": "9254b923-1ab1-4dac-a817-873eea34db94",
   "metadata": {},
   "source": [
    "<br>"
   ]
  },
  {
   "cell_type": "markdown",
   "id": "edebfafe-a7fa-4b9a-85d3-7ce459fd74fb",
   "metadata": {},
   "source": [
    "#### 7.12 Model Multi Layer Perceptron"
   ]
  },
  {
   "cell_type": "code",
   "execution_count": null,
   "id": "facb029d-47a0-421b-a7c4-43aa8838353b",
   "metadata": {},
   "outputs": [],
   "source": [
    "# Melihat pipeline model\n",
    "nama_model = model_ft.loc['mlp','Param']['mlp']\n",
    "nama_model"
   ]
  },
  {
   "cell_type": "code",
   "execution_count": null,
   "id": "b6b15410-58b7-47e7-8042-fbe69c63394a",
   "metadata": {},
   "outputs": [],
   "source": [
    "# Fitting menggunakan shap\n",
    "explainer = shap.Explainer(nama_model.predict, X_test)\n",
    "shap_values = explainer(X_test)"
   ]
  },
  {
   "cell_type": "code",
   "execution_count": null,
   "id": "46d52da3-bed0-448e-84a1-2b7f644d3c8a",
   "metadata": {},
   "outputs": [],
   "source": [
    "# Plotting barplot\n",
    "shap.plots.bar(shap_values)"
   ]
  },
  {
   "cell_type": "markdown",
   "id": "ad9dcc16-a9dc-43fa-97f0-d329e8e75568",
   "metadata": {},
   "source": [
    "Di sini, fitur-fitur diurutkan dari pengaruh tertinggi hingga terendah terhadap prediksi. <br>\n",
    "Pengurutan ini berdasarkan nilai SHAP absolut, sehingga tidak masalah apakah fitur tersebut mempengaruhi prediksi secara positif atau negatif"
   ]
  },
  {
   "cell_type": "code",
   "execution_count": null,
   "id": "9fbf0d1b-b89f-4caa-9caf-a32ac5c4e6b6",
   "metadata": {},
   "outputs": [],
   "source": [
    "# Ringkasan dan penjelasan\n",
    "shap.summary_plot(shap_values)"
   ]
  },
  {
   "cell_type": "markdown",
   "id": "eac852c2-d94d-4b8d-9398-89a7349c5698",
   "metadata": {
    "tags": []
   },
   "source": [
    "Pada plot di atas, fitur-fitur juga diurutkan berdasarkan pengaruhnya terhadap prediksi, tetapi kita juga dapat melihat bagaimana nilai yang lebih tinggi dan lebih rendah dari fitur tersebut akan mempengaruhi hasil.<br>\n",
    "Semua titik kecil pada plot mewakili satu observasi. <br>\n",
    "Sumbu horizontal mewakili nilai SHAP, sementara warna titik menunjukkan apakah observasi tersebut memiliki nilai yang lebih tinggi atau lebih rendah dibandingkan dengan observasi lainnya.<br>\n",
    "Dalam contoh ini, nilai cement dan Blast_slag yang lebih tinggi memiliki dampak positif terhadap prediksi, sedangkan nilai yang lebih rendah memiliki dampak negatif."
   ]
  }
 ],
 "metadata": {
  "kernelspec": {
   "display_name": "Python 3 (ipykernel)",
   "language": "python",
   "name": "python3"
  },
  "language_info": {
   "codemirror_mode": {
    "name": "ipython",
    "version": 3
   },
   "file_extension": ".py",
   "mimetype": "text/x-python",
   "name": "python",
   "nbconvert_exporter": "python",
   "pygments_lexer": "ipython3",
   "version": "3.10.13"
  }
 },
 "nbformat": 4,
 "nbformat_minor": 5
}
